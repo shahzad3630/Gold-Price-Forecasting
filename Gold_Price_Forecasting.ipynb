{
 "cells": [
  {
   "cell_type": "markdown",
   "metadata": {
    "id": "xKZ-tC5RFMR5"
   },
   "source": [
    "# Preliminary"
   ]
  },
  {
   "cell_type": "code",
   "execution_count": 1,
   "metadata": {
    "colab": {
     "base_uri": "https://localhost:8080/"
    },
    "id": "ZQCCfIf5sVBL",
    "outputId": "19734b05-e528-4417-b2bd-38a4afce579f"
   },
   "outputs": [
    {
     "name": "stdout",
     "output_type": "stream",
     "text": [
      "Mounted at /content/drive\n"
     ]
    }
   ],
   "source": [
    "# connect google drive to colab session\n",
    "\n",
    "from google.colab import drive\n",
    "drive.mount('/content/drive')"
   ]
  },
  {
   "cell_type": "code",
   "execution_count": 2,
   "metadata": {
    "id": "R9wYFAbcsh4n"
   },
   "outputs": [],
   "source": [
    "# get data from google drive\n",
    "!cp \"/content/drive/MyDrive/others/Time Series/Gold Price/gold_price_data.csv\" ."
   ]
  },
  {
   "cell_type": "markdown",
   "metadata": {
    "id": "HwW0o2d-FUX1"
   },
   "source": [
    "# Import data and modules"
   ]
  },
  {
   "cell_type": "code",
   "execution_count": 4,
   "metadata": {
    "id": "oz36qjhwsPNk"
   },
   "outputs": [],
   "source": [
    "import os\n",
    "import pandas as pd\n",
    "import numpy as np\n",
    "\n",
    "import matplotlib.pyplot as plt\n",
    "import seaborn as sns\n",
    "from tqdm.notebook import tqdm"
   ]
  },
  {
   "cell_type": "code",
   "execution_count": 5,
   "metadata": {
    "id": "mc_eS2ZstU8r"
   },
   "outputs": [],
   "source": [
    "from sklearn.pipeline import Pipeline\n",
    "from sklearn.preprocessing import StandardScaler\n",
    "from sklearn.preprocessing import PolynomialFeatures\n",
    "from sklearn.model_selection import GridSearchCV\n",
    "\n",
    "from sklearn.ensemble import RandomForestRegressor\n",
    "from sklearn.linear_model import LinearRegression\n",
    "from sklearn.svm import SVR\n",
    "from xgboost import XGBRegressor"
   ]
  },
  {
   "cell_type": "code",
   "execution_count": 6,
   "metadata": {
    "id": "cl7ncUNdWoD0"
   },
   "outputs": [],
   "source": [
    "from fbprophet import Prophet"
   ]
  },
  {
   "cell_type": "code",
   "execution_count": 7,
   "metadata": {
    "colab": {
     "base_uri": "https://localhost:8080/"
    },
    "id": "pAfSAVavsg7i",
    "outputId": "f6e319d5-66e4-47f7-f946-332f8f664410"
   },
   "outputs": [
    {
     "name": "stderr",
     "output_type": "stream",
     "text": [
      "/usr/local/lib/python3.7/dist-packages/statsmodels/tools/_testing.py:19: FutureWarning: pandas.util.testing is deprecated. Use the functions in the public API at pandas.testing instead.\n",
      "  import pandas.util.testing as tm\n"
     ]
    }
   ],
   "source": [
    "from statsmodels.graphics.tsaplots import plot_acf, plot_pacf\n",
    "from statsmodels.tsa import api as smt\n",
    "from statsmodels.tsa.seasonal import seasonal_decompose\n",
    "from statsmodels.tsa.stattools import adfuller\n",
    "\n",
    "from statsmodels.tsa.holtwinters import ExponentialSmoothing"
   ]
  },
  {
   "cell_type": "code",
   "execution_count": 8,
   "metadata": {
    "colab": {
     "base_uri": "https://localhost:8080/"
    },
    "id": "g9VTnPvpsg-P",
    "outputId": "7bb6e809-ae01-493d-abb4-966cd5fb1a4f"
   },
   "outputs": [
    {
     "data": {
      "text/plain": [
       "(10787, 2)"
      ]
     },
     "execution_count": 8,
     "metadata": {},
     "output_type": "execute_result"
    }
   ],
   "source": [
    "path=\"/content/gold_price_data.csv\"\n",
    "df=pd.read_csv(path)\n",
    "df.shape"
   ]
  },
  {
   "cell_type": "markdown",
   "metadata": {
    "id": "pAb9vs_Y8Qa_"
   },
   "source": [
    "# Analysis"
   ]
  },
  {
   "cell_type": "code",
   "execution_count": 9,
   "metadata": {
    "colab": {
     "base_uri": "https://localhost:8080/",
     "height": 206
    },
    "id": "7Y9BC6Y5svHW",
    "outputId": "fc8c72ea-616a-41ab-82ff-781426d51696"
   },
   "outputs": [
    {
     "data": {
      "text/html": [
       "\n",
       "  <div id=\"df-546fa8a3-de5b-4042-b153-a03cb86fd6f3\">\n",
       "    <div class=\"colab-df-container\">\n",
       "      <div>\n",
       "<style scoped>\n",
       "    .dataframe tbody tr th:only-of-type {\n",
       "        vertical-align: middle;\n",
       "    }\n",
       "\n",
       "    .dataframe tbody tr th {\n",
       "        vertical-align: top;\n",
       "    }\n",
       "\n",
       "    .dataframe thead th {\n",
       "        text-align: right;\n",
       "    }\n",
       "</style>\n",
       "<table border=\"1\" class=\"dataframe\">\n",
       "  <thead>\n",
       "    <tr style=\"text-align: right;\">\n",
       "      <th></th>\n",
       "      <th>Date</th>\n",
       "      <th>Value</th>\n",
       "    </tr>\n",
       "  </thead>\n",
       "  <tbody>\n",
       "    <tr>\n",
       "      <th>0</th>\n",
       "      <td>1970-01-01</td>\n",
       "      <td>35.2</td>\n",
       "    </tr>\n",
       "    <tr>\n",
       "      <th>1</th>\n",
       "      <td>1970-04-01</td>\n",
       "      <td>35.1</td>\n",
       "    </tr>\n",
       "    <tr>\n",
       "      <th>2</th>\n",
       "      <td>1970-07-01</td>\n",
       "      <td>35.4</td>\n",
       "    </tr>\n",
       "    <tr>\n",
       "      <th>3</th>\n",
       "      <td>1970-10-01</td>\n",
       "      <td>36.2</td>\n",
       "    </tr>\n",
       "    <tr>\n",
       "      <th>4</th>\n",
       "      <td>1971-01-01</td>\n",
       "      <td>37.4</td>\n",
       "    </tr>\n",
       "  </tbody>\n",
       "</table>\n",
       "</div>\n",
       "      <button class=\"colab-df-convert\" onclick=\"convertToInteractive('df-546fa8a3-de5b-4042-b153-a03cb86fd6f3')\"\n",
       "              title=\"Convert this dataframe to an interactive table.\"\n",
       "              style=\"display:none;\">\n",
       "        \n",
       "  <svg xmlns=\"http://www.w3.org/2000/svg\" height=\"24px\"viewBox=\"0 0 24 24\"\n",
       "       width=\"24px\">\n",
       "    <path d=\"M0 0h24v24H0V0z\" fill=\"none\"/>\n",
       "    <path d=\"M18.56 5.44l.94 2.06.94-2.06 2.06-.94-2.06-.94-.94-2.06-.94 2.06-2.06.94zm-11 1L8.5 8.5l.94-2.06 2.06-.94-2.06-.94L8.5 2.5l-.94 2.06-2.06.94zm10 10l.94 2.06.94-2.06 2.06-.94-2.06-.94-.94-2.06-.94 2.06-2.06.94z\"/><path d=\"M17.41 7.96l-1.37-1.37c-.4-.4-.92-.59-1.43-.59-.52 0-1.04.2-1.43.59L10.3 9.45l-7.72 7.72c-.78.78-.78 2.05 0 2.83L4 21.41c.39.39.9.59 1.41.59.51 0 1.02-.2 1.41-.59l7.78-7.78 2.81-2.81c.8-.78.8-2.07 0-2.86zM5.41 20L4 18.59l7.72-7.72 1.47 1.35L5.41 20z\"/>\n",
       "  </svg>\n",
       "      </button>\n",
       "      \n",
       "  <style>\n",
       "    .colab-df-container {\n",
       "      display:flex;\n",
       "      flex-wrap:wrap;\n",
       "      gap: 12px;\n",
       "    }\n",
       "\n",
       "    .colab-df-convert {\n",
       "      background-color: #E8F0FE;\n",
       "      border: none;\n",
       "      border-radius: 50%;\n",
       "      cursor: pointer;\n",
       "      display: none;\n",
       "      fill: #1967D2;\n",
       "      height: 32px;\n",
       "      padding: 0 0 0 0;\n",
       "      width: 32px;\n",
       "    }\n",
       "\n",
       "    .colab-df-convert:hover {\n",
       "      background-color: #E2EBFA;\n",
       "      box-shadow: 0px 1px 2px rgba(60, 64, 67, 0.3), 0px 1px 3px 1px rgba(60, 64, 67, 0.15);\n",
       "      fill: #174EA6;\n",
       "    }\n",
       "\n",
       "    [theme=dark] .colab-df-convert {\n",
       "      background-color: #3B4455;\n",
       "      fill: #D2E3FC;\n",
       "    }\n",
       "\n",
       "    [theme=dark] .colab-df-convert:hover {\n",
       "      background-color: #434B5C;\n",
       "      box-shadow: 0px 1px 3px 1px rgba(0, 0, 0, 0.15);\n",
       "      filter: drop-shadow(0px 1px 2px rgba(0, 0, 0, 0.3));\n",
       "      fill: #FFFFFF;\n",
       "    }\n",
       "  </style>\n",
       "\n",
       "      <script>\n",
       "        const buttonEl =\n",
       "          document.querySelector('#df-546fa8a3-de5b-4042-b153-a03cb86fd6f3 button.colab-df-convert');\n",
       "        buttonEl.style.display =\n",
       "          google.colab.kernel.accessAllowed ? 'block' : 'none';\n",
       "\n",
       "        async function convertToInteractive(key) {\n",
       "          const element = document.querySelector('#df-546fa8a3-de5b-4042-b153-a03cb86fd6f3');\n",
       "          const dataTable =\n",
       "            await google.colab.kernel.invokeFunction('convertToInteractive',\n",
       "                                                     [key], {});\n",
       "          if (!dataTable) return;\n",
       "\n",
       "          const docLinkHtml = 'Like what you see? Visit the ' +\n",
       "            '<a target=\"_blank\" href=https://colab.research.google.com/notebooks/data_table.ipynb>data table notebook</a>'\n",
       "            + ' to learn more about interactive tables.';\n",
       "          element.innerHTML = '';\n",
       "          dataTable['output_type'] = 'display_data';\n",
       "          await google.colab.output.renderOutput(dataTable, element);\n",
       "          const docLink = document.createElement('div');\n",
       "          docLink.innerHTML = docLinkHtml;\n",
       "          element.appendChild(docLink);\n",
       "        }\n",
       "      </script>\n",
       "    </div>\n",
       "  </div>\n",
       "  "
      ],
      "text/plain": [
       "         Date  Value\n",
       "0  1970-01-01   35.2\n",
       "1  1970-04-01   35.1\n",
       "2  1970-07-01   35.4\n",
       "3  1970-10-01   36.2\n",
       "4  1971-01-01   37.4"
      ]
     },
     "execution_count": 9,
     "metadata": {},
     "output_type": "execute_result"
    }
   ],
   "source": [
    "df.head()"
   ]
  },
  {
   "cell_type": "code",
   "execution_count": 10,
   "metadata": {
    "colab": {
     "base_uri": "https://localhost:8080/",
     "height": 206
    },
    "id": "WONZMKA5s26b",
    "outputId": "9980d359-e777-46c7-85d7-1adc6709f774"
   },
   "outputs": [
    {
     "data": {
      "text/html": [
       "\n",
       "  <div id=\"df-34e7fa94-8d54-4c6c-b35e-bcf8af05a3fd\">\n",
       "    <div class=\"colab-df-container\">\n",
       "      <div>\n",
       "<style scoped>\n",
       "    .dataframe tbody tr th:only-of-type {\n",
       "        vertical-align: middle;\n",
       "    }\n",
       "\n",
       "    .dataframe tbody tr th {\n",
       "        vertical-align: top;\n",
       "    }\n",
       "\n",
       "    .dataframe thead th {\n",
       "        text-align: right;\n",
       "    }\n",
       "</style>\n",
       "<table border=\"1\" class=\"dataframe\">\n",
       "  <thead>\n",
       "    <tr style=\"text-align: right;\">\n",
       "      <th></th>\n",
       "      <th>Date</th>\n",
       "      <th>Value</th>\n",
       "    </tr>\n",
       "  </thead>\n",
       "  <tbody>\n",
       "    <tr>\n",
       "      <th>10782</th>\n",
       "      <td>2020-03-09</td>\n",
       "      <td>1672.50</td>\n",
       "    </tr>\n",
       "    <tr>\n",
       "      <th>10783</th>\n",
       "      <td>2020-03-10</td>\n",
       "      <td>1655.70</td>\n",
       "    </tr>\n",
       "    <tr>\n",
       "      <th>10784</th>\n",
       "      <td>2020-03-11</td>\n",
       "      <td>1653.75</td>\n",
       "    </tr>\n",
       "    <tr>\n",
       "      <th>10785</th>\n",
       "      <td>2020-03-12</td>\n",
       "      <td>1570.70</td>\n",
       "    </tr>\n",
       "    <tr>\n",
       "      <th>10786</th>\n",
       "      <td>2020-03-13</td>\n",
       "      <td>1562.80</td>\n",
       "    </tr>\n",
       "  </tbody>\n",
       "</table>\n",
       "</div>\n",
       "      <button class=\"colab-df-convert\" onclick=\"convertToInteractive('df-34e7fa94-8d54-4c6c-b35e-bcf8af05a3fd')\"\n",
       "              title=\"Convert this dataframe to an interactive table.\"\n",
       "              style=\"display:none;\">\n",
       "        \n",
       "  <svg xmlns=\"http://www.w3.org/2000/svg\" height=\"24px\"viewBox=\"0 0 24 24\"\n",
       "       width=\"24px\">\n",
       "    <path d=\"M0 0h24v24H0V0z\" fill=\"none\"/>\n",
       "    <path d=\"M18.56 5.44l.94 2.06.94-2.06 2.06-.94-2.06-.94-.94-2.06-.94 2.06-2.06.94zm-11 1L8.5 8.5l.94-2.06 2.06-.94-2.06-.94L8.5 2.5l-.94 2.06-2.06.94zm10 10l.94 2.06.94-2.06 2.06-.94-2.06-.94-.94-2.06-.94 2.06-2.06.94z\"/><path d=\"M17.41 7.96l-1.37-1.37c-.4-.4-.92-.59-1.43-.59-.52 0-1.04.2-1.43.59L10.3 9.45l-7.72 7.72c-.78.78-.78 2.05 0 2.83L4 21.41c.39.39.9.59 1.41.59.51 0 1.02-.2 1.41-.59l7.78-7.78 2.81-2.81c.8-.78.8-2.07 0-2.86zM5.41 20L4 18.59l7.72-7.72 1.47 1.35L5.41 20z\"/>\n",
       "  </svg>\n",
       "      </button>\n",
       "      \n",
       "  <style>\n",
       "    .colab-df-container {\n",
       "      display:flex;\n",
       "      flex-wrap:wrap;\n",
       "      gap: 12px;\n",
       "    }\n",
       "\n",
       "    .colab-df-convert {\n",
       "      background-color: #E8F0FE;\n",
       "      border: none;\n",
       "      border-radius: 50%;\n",
       "      cursor: pointer;\n",
       "      display: none;\n",
       "      fill: #1967D2;\n",
       "      height: 32px;\n",
       "      padding: 0 0 0 0;\n",
       "      width: 32px;\n",
       "    }\n",
       "\n",
       "    .colab-df-convert:hover {\n",
       "      background-color: #E2EBFA;\n",
       "      box-shadow: 0px 1px 2px rgba(60, 64, 67, 0.3), 0px 1px 3px 1px rgba(60, 64, 67, 0.15);\n",
       "      fill: #174EA6;\n",
       "    }\n",
       "\n",
       "    [theme=dark] .colab-df-convert {\n",
       "      background-color: #3B4455;\n",
       "      fill: #D2E3FC;\n",
       "    }\n",
       "\n",
       "    [theme=dark] .colab-df-convert:hover {\n",
       "      background-color: #434B5C;\n",
       "      box-shadow: 0px 1px 3px 1px rgba(0, 0, 0, 0.15);\n",
       "      filter: drop-shadow(0px 1px 2px rgba(0, 0, 0, 0.3));\n",
       "      fill: #FFFFFF;\n",
       "    }\n",
       "  </style>\n",
       "\n",
       "      <script>\n",
       "        const buttonEl =\n",
       "          document.querySelector('#df-34e7fa94-8d54-4c6c-b35e-bcf8af05a3fd button.colab-df-convert');\n",
       "        buttonEl.style.display =\n",
       "          google.colab.kernel.accessAllowed ? 'block' : 'none';\n",
       "\n",
       "        async function convertToInteractive(key) {\n",
       "          const element = document.querySelector('#df-34e7fa94-8d54-4c6c-b35e-bcf8af05a3fd');\n",
       "          const dataTable =\n",
       "            await google.colab.kernel.invokeFunction('convertToInteractive',\n",
       "                                                     [key], {});\n",
       "          if (!dataTable) return;\n",
       "\n",
       "          const docLinkHtml = 'Like what you see? Visit the ' +\n",
       "            '<a target=\"_blank\" href=https://colab.research.google.com/notebooks/data_table.ipynb>data table notebook</a>'\n",
       "            + ' to learn more about interactive tables.';\n",
       "          element.innerHTML = '';\n",
       "          dataTable['output_type'] = 'display_data';\n",
       "          await google.colab.output.renderOutput(dataTable, element);\n",
       "          const docLink = document.createElement('div');\n",
       "          docLink.innerHTML = docLinkHtml;\n",
       "          element.appendChild(docLink);\n",
       "        }\n",
       "      </script>\n",
       "    </div>\n",
       "  </div>\n",
       "  "
      ],
      "text/plain": [
       "             Date    Value\n",
       "10782  2020-03-09  1672.50\n",
       "10783  2020-03-10  1655.70\n",
       "10784  2020-03-11  1653.75\n",
       "10785  2020-03-12  1570.70\n",
       "10786  2020-03-13  1562.80"
      ]
     },
     "execution_count": 10,
     "metadata": {},
     "output_type": "execute_result"
    }
   ],
   "source": [
    "df.tail()"
   ]
  },
  {
   "cell_type": "code",
   "execution_count": 11,
   "metadata": {
    "colab": {
     "base_uri": "https://localhost:8080/"
    },
    "id": "1ICnCB1vs6MB",
    "outputId": "af41af82-601c-49cb-b926-f7e6dcf3ad83"
   },
   "outputs": [
    {
     "name": "stdout",
     "output_type": "stream",
     "text": [
      "<class 'pandas.core.frame.DataFrame'>\n",
      "RangeIndex: 10787 entries, 0 to 10786\n",
      "Data columns (total 2 columns):\n",
      " #   Column  Non-Null Count  Dtype  \n",
      "---  ------  --------------  -----  \n",
      " 0   Date    10787 non-null  object \n",
      " 1   Value   10787 non-null  float64\n",
      "dtypes: float64(1), object(1)\n",
      "memory usage: 168.7+ KB\n"
     ]
    }
   ],
   "source": [
    "df.info()"
   ]
  },
  {
   "cell_type": "code",
   "execution_count": 12,
   "metadata": {
    "colab": {
     "base_uri": "https://localhost:8080/",
     "height": 301
    },
    "id": "nJaHB9Bus_ib",
    "outputId": "2cfee845-2775-4717-9ea5-65033189c946"
   },
   "outputs": [
    {
     "data": {
      "text/html": [
       "\n",
       "  <div id=\"df-3f105825-b574-4fa9-bb8c-01da76533009\">\n",
       "    <div class=\"colab-df-container\">\n",
       "      <div>\n",
       "<style scoped>\n",
       "    .dataframe tbody tr th:only-of-type {\n",
       "        vertical-align: middle;\n",
       "    }\n",
       "\n",
       "    .dataframe tbody tr th {\n",
       "        vertical-align: top;\n",
       "    }\n",
       "\n",
       "    .dataframe thead th {\n",
       "        text-align: right;\n",
       "    }\n",
       "</style>\n",
       "<table border=\"1\" class=\"dataframe\">\n",
       "  <thead>\n",
       "    <tr style=\"text-align: right;\">\n",
       "      <th></th>\n",
       "      <th>Value</th>\n",
       "    </tr>\n",
       "  </thead>\n",
       "  <tbody>\n",
       "    <tr>\n",
       "      <th>count</th>\n",
       "      <td>10787.000000</td>\n",
       "    </tr>\n",
       "    <tr>\n",
       "      <th>mean</th>\n",
       "      <td>653.596634</td>\n",
       "    </tr>\n",
       "    <tr>\n",
       "      <th>std</th>\n",
       "      <td>434.030848</td>\n",
       "    </tr>\n",
       "    <tr>\n",
       "      <th>min</th>\n",
       "      <td>35.100000</td>\n",
       "    </tr>\n",
       "    <tr>\n",
       "      <th>25%</th>\n",
       "      <td>349.200000</td>\n",
       "    </tr>\n",
       "    <tr>\n",
       "      <th>50%</th>\n",
       "      <td>409.350000</td>\n",
       "    </tr>\n",
       "    <tr>\n",
       "      <th>75%</th>\n",
       "      <td>1061.625000</td>\n",
       "    </tr>\n",
       "    <tr>\n",
       "      <th>max</th>\n",
       "      <td>1895.000000</td>\n",
       "    </tr>\n",
       "  </tbody>\n",
       "</table>\n",
       "</div>\n",
       "      <button class=\"colab-df-convert\" onclick=\"convertToInteractive('df-3f105825-b574-4fa9-bb8c-01da76533009')\"\n",
       "              title=\"Convert this dataframe to an interactive table.\"\n",
       "              style=\"display:none;\">\n",
       "        \n",
       "  <svg xmlns=\"http://www.w3.org/2000/svg\" height=\"24px\"viewBox=\"0 0 24 24\"\n",
       "       width=\"24px\">\n",
       "    <path d=\"M0 0h24v24H0V0z\" fill=\"none\"/>\n",
       "    <path d=\"M18.56 5.44l.94 2.06.94-2.06 2.06-.94-2.06-.94-.94-2.06-.94 2.06-2.06.94zm-11 1L8.5 8.5l.94-2.06 2.06-.94-2.06-.94L8.5 2.5l-.94 2.06-2.06.94zm10 10l.94 2.06.94-2.06 2.06-.94-2.06-.94-.94-2.06-.94 2.06-2.06.94z\"/><path d=\"M17.41 7.96l-1.37-1.37c-.4-.4-.92-.59-1.43-.59-.52 0-1.04.2-1.43.59L10.3 9.45l-7.72 7.72c-.78.78-.78 2.05 0 2.83L4 21.41c.39.39.9.59 1.41.59.51 0 1.02-.2 1.41-.59l7.78-7.78 2.81-2.81c.8-.78.8-2.07 0-2.86zM5.41 20L4 18.59l7.72-7.72 1.47 1.35L5.41 20z\"/>\n",
       "  </svg>\n",
       "      </button>\n",
       "      \n",
       "  <style>\n",
       "    .colab-df-container {\n",
       "      display:flex;\n",
       "      flex-wrap:wrap;\n",
       "      gap: 12px;\n",
       "    }\n",
       "\n",
       "    .colab-df-convert {\n",
       "      background-color: #E8F0FE;\n",
       "      border: none;\n",
       "      border-radius: 50%;\n",
       "      cursor: pointer;\n",
       "      display: none;\n",
       "      fill: #1967D2;\n",
       "      height: 32px;\n",
       "      padding: 0 0 0 0;\n",
       "      width: 32px;\n",
       "    }\n",
       "\n",
       "    .colab-df-convert:hover {\n",
       "      background-color: #E2EBFA;\n",
       "      box-shadow: 0px 1px 2px rgba(60, 64, 67, 0.3), 0px 1px 3px 1px rgba(60, 64, 67, 0.15);\n",
       "      fill: #174EA6;\n",
       "    }\n",
       "\n",
       "    [theme=dark] .colab-df-convert {\n",
       "      background-color: #3B4455;\n",
       "      fill: #D2E3FC;\n",
       "    }\n",
       "\n",
       "    [theme=dark] .colab-df-convert:hover {\n",
       "      background-color: #434B5C;\n",
       "      box-shadow: 0px 1px 3px 1px rgba(0, 0, 0, 0.15);\n",
       "      filter: drop-shadow(0px 1px 2px rgba(0, 0, 0, 0.3));\n",
       "      fill: #FFFFFF;\n",
       "    }\n",
       "  </style>\n",
       "\n",
       "      <script>\n",
       "        const buttonEl =\n",
       "          document.querySelector('#df-3f105825-b574-4fa9-bb8c-01da76533009 button.colab-df-convert');\n",
       "        buttonEl.style.display =\n",
       "          google.colab.kernel.accessAllowed ? 'block' : 'none';\n",
       "\n",
       "        async function convertToInteractive(key) {\n",
       "          const element = document.querySelector('#df-3f105825-b574-4fa9-bb8c-01da76533009');\n",
       "          const dataTable =\n",
       "            await google.colab.kernel.invokeFunction('convertToInteractive',\n",
       "                                                     [key], {});\n",
       "          if (!dataTable) return;\n",
       "\n",
       "          const docLinkHtml = 'Like what you see? Visit the ' +\n",
       "            '<a target=\"_blank\" href=https://colab.research.google.com/notebooks/data_table.ipynb>data table notebook</a>'\n",
       "            + ' to learn more about interactive tables.';\n",
       "          element.innerHTML = '';\n",
       "          dataTable['output_type'] = 'display_data';\n",
       "          await google.colab.output.renderOutput(dataTable, element);\n",
       "          const docLink = document.createElement('div');\n",
       "          docLink.innerHTML = docLinkHtml;\n",
       "          element.appendChild(docLink);\n",
       "        }\n",
       "      </script>\n",
       "    </div>\n",
       "  </div>\n",
       "  "
      ],
      "text/plain": [
       "              Value\n",
       "count  10787.000000\n",
       "mean     653.596634\n",
       "std      434.030848\n",
       "min       35.100000\n",
       "25%      349.200000\n",
       "50%      409.350000\n",
       "75%     1061.625000\n",
       "max     1895.000000"
      ]
     },
     "execution_count": 12,
     "metadata": {},
     "output_type": "execute_result"
    }
   ],
   "source": [
    "df.describe()"
   ]
  },
  {
   "cell_type": "code",
   "execution_count": 13,
   "metadata": {
    "colab": {
     "base_uri": "https://localhost:8080/",
     "height": 455
    },
    "id": "2sqxpBpstcCS",
    "outputId": "6b0e3f87-9fa0-49c9-88cd-f82782c2cf94"
   },
   "outputs": [
    {
     "data": {
      "text/html": [
       "\n",
       "  <div id=\"df-427c3573-0bcd-42ad-8576-a8a75d0dceba\">\n",
       "    <div class=\"colab-df-container\">\n",
       "      <div>\n",
       "<style scoped>\n",
       "    .dataframe tbody tr th:only-of-type {\n",
       "        vertical-align: middle;\n",
       "    }\n",
       "\n",
       "    .dataframe tbody tr th {\n",
       "        vertical-align: top;\n",
       "    }\n",
       "\n",
       "    .dataframe thead th {\n",
       "        text-align: right;\n",
       "    }\n",
       "</style>\n",
       "<table border=\"1\" class=\"dataframe\">\n",
       "  <thead>\n",
       "    <tr style=\"text-align: right;\">\n",
       "      <th></th>\n",
       "      <th>Value</th>\n",
       "    </tr>\n",
       "    <tr>\n",
       "      <th>Date</th>\n",
       "      <th></th>\n",
       "    </tr>\n",
       "  </thead>\n",
       "  <tbody>\n",
       "    <tr>\n",
       "      <th>1970-01-01</th>\n",
       "      <td>35.20</td>\n",
       "    </tr>\n",
       "    <tr>\n",
       "      <th>1970-01-02</th>\n",
       "      <td>NaN</td>\n",
       "    </tr>\n",
       "    <tr>\n",
       "      <th>1970-01-03</th>\n",
       "      <td>NaN</td>\n",
       "    </tr>\n",
       "    <tr>\n",
       "      <th>1970-01-04</th>\n",
       "      <td>NaN</td>\n",
       "    </tr>\n",
       "    <tr>\n",
       "      <th>1970-01-05</th>\n",
       "      <td>NaN</td>\n",
       "    </tr>\n",
       "    <tr>\n",
       "      <th>...</th>\n",
       "      <td>...</td>\n",
       "    </tr>\n",
       "    <tr>\n",
       "      <th>2020-03-09</th>\n",
       "      <td>1672.50</td>\n",
       "    </tr>\n",
       "    <tr>\n",
       "      <th>2020-03-10</th>\n",
       "      <td>1655.70</td>\n",
       "    </tr>\n",
       "    <tr>\n",
       "      <th>2020-03-11</th>\n",
       "      <td>1653.75</td>\n",
       "    </tr>\n",
       "    <tr>\n",
       "      <th>2020-03-12</th>\n",
       "      <td>1570.70</td>\n",
       "    </tr>\n",
       "    <tr>\n",
       "      <th>2020-03-13</th>\n",
       "      <td>1562.80</td>\n",
       "    </tr>\n",
       "  </tbody>\n",
       "</table>\n",
       "<p>18335 rows × 1 columns</p>\n",
       "</div>\n",
       "      <button class=\"colab-df-convert\" onclick=\"convertToInteractive('df-427c3573-0bcd-42ad-8576-a8a75d0dceba')\"\n",
       "              title=\"Convert this dataframe to an interactive table.\"\n",
       "              style=\"display:none;\">\n",
       "        \n",
       "  <svg xmlns=\"http://www.w3.org/2000/svg\" height=\"24px\"viewBox=\"0 0 24 24\"\n",
       "       width=\"24px\">\n",
       "    <path d=\"M0 0h24v24H0V0z\" fill=\"none\"/>\n",
       "    <path d=\"M18.56 5.44l.94 2.06.94-2.06 2.06-.94-2.06-.94-.94-2.06-.94 2.06-2.06.94zm-11 1L8.5 8.5l.94-2.06 2.06-.94-2.06-.94L8.5 2.5l-.94 2.06-2.06.94zm10 10l.94 2.06.94-2.06 2.06-.94-2.06-.94-.94-2.06-.94 2.06-2.06.94z\"/><path d=\"M17.41 7.96l-1.37-1.37c-.4-.4-.92-.59-1.43-.59-.52 0-1.04.2-1.43.59L10.3 9.45l-7.72 7.72c-.78.78-.78 2.05 0 2.83L4 21.41c.39.39.9.59 1.41.59.51 0 1.02-.2 1.41-.59l7.78-7.78 2.81-2.81c.8-.78.8-2.07 0-2.86zM5.41 20L4 18.59l7.72-7.72 1.47 1.35L5.41 20z\"/>\n",
       "  </svg>\n",
       "      </button>\n",
       "      \n",
       "  <style>\n",
       "    .colab-df-container {\n",
       "      display:flex;\n",
       "      flex-wrap:wrap;\n",
       "      gap: 12px;\n",
       "    }\n",
       "\n",
       "    .colab-df-convert {\n",
       "      background-color: #E8F0FE;\n",
       "      border: none;\n",
       "      border-radius: 50%;\n",
       "      cursor: pointer;\n",
       "      display: none;\n",
       "      fill: #1967D2;\n",
       "      height: 32px;\n",
       "      padding: 0 0 0 0;\n",
       "      width: 32px;\n",
       "    }\n",
       "\n",
       "    .colab-df-convert:hover {\n",
       "      background-color: #E2EBFA;\n",
       "      box-shadow: 0px 1px 2px rgba(60, 64, 67, 0.3), 0px 1px 3px 1px rgba(60, 64, 67, 0.15);\n",
       "      fill: #174EA6;\n",
       "    }\n",
       "\n",
       "    [theme=dark] .colab-df-convert {\n",
       "      background-color: #3B4455;\n",
       "      fill: #D2E3FC;\n",
       "    }\n",
       "\n",
       "    [theme=dark] .colab-df-convert:hover {\n",
       "      background-color: #434B5C;\n",
       "      box-shadow: 0px 1px 3px 1px rgba(0, 0, 0, 0.15);\n",
       "      filter: drop-shadow(0px 1px 2px rgba(0, 0, 0, 0.3));\n",
       "      fill: #FFFFFF;\n",
       "    }\n",
       "  </style>\n",
       "\n",
       "      <script>\n",
       "        const buttonEl =\n",
       "          document.querySelector('#df-427c3573-0bcd-42ad-8576-a8a75d0dceba button.colab-df-convert');\n",
       "        buttonEl.style.display =\n",
       "          google.colab.kernel.accessAllowed ? 'block' : 'none';\n",
       "\n",
       "        async function convertToInteractive(key) {\n",
       "          const element = document.querySelector('#df-427c3573-0bcd-42ad-8576-a8a75d0dceba');\n",
       "          const dataTable =\n",
       "            await google.colab.kernel.invokeFunction('convertToInteractive',\n",
       "                                                     [key], {});\n",
       "          if (!dataTable) return;\n",
       "\n",
       "          const docLinkHtml = 'Like what you see? Visit the ' +\n",
       "            '<a target=\"_blank\" href=https://colab.research.google.com/notebooks/data_table.ipynb>data table notebook</a>'\n",
       "            + ' to learn more about interactive tables.';\n",
       "          element.innerHTML = '';\n",
       "          dataTable['output_type'] = 'display_data';\n",
       "          await google.colab.output.renderOutput(dataTable, element);\n",
       "          const docLink = document.createElement('div');\n",
       "          docLink.innerHTML = docLinkHtml;\n",
       "          element.appendChild(docLink);\n",
       "        }\n",
       "      </script>\n",
       "    </div>\n",
       "  </div>\n",
       "  "
      ],
      "text/plain": [
       "              Value\n",
       "Date               \n",
       "1970-01-01    35.20\n",
       "1970-01-02      NaN\n",
       "1970-01-03      NaN\n",
       "1970-01-04      NaN\n",
       "1970-01-05      NaN\n",
       "...             ...\n",
       "2020-03-09  1672.50\n",
       "2020-03-10  1655.70\n",
       "2020-03-11  1653.75\n",
       "2020-03-12  1570.70\n",
       "2020-03-13  1562.80\n",
       "\n",
       "[18335 rows x 1 columns]"
      ]
     },
     "execution_count": 13,
     "metadata": {},
     "output_type": "execute_result"
    }
   ],
   "source": [
    "# reformat the csv file with values and date as index\n",
    "# missing dates are to be inserted into the csv with 'Value' as NAN\n",
    "# csv shall reflect per day observations\n",
    "\n",
    "df2=df.copy()\n",
    "df2['Date']=pd.to_datetime(df2['Date'])\n",
    "df2.index=df2['Date']\n",
    "df2.drop(['Date'], axis=1, inplace=True)\n",
    "\n",
    "df_temp=df2.copy()\n",
    "\n",
    "df2=df2.asfreq('D')\n",
    "df2"
   ]
  },
  {
   "cell_type": "code",
   "execution_count": 14,
   "metadata": {
    "colab": {
     "base_uri": "https://localhost:8080/",
     "height": 320
    },
    "id": "SCnXXddGtcFC",
    "outputId": "55da1b2d-9704-4f48-8914-ca9ccc73b53f"
   },
   "outputs": [
    {
     "data": {
      "image/png": "[encoded data removed]",
      "text/plain": [
       "<Figure size 1440x360 with 1 Axes>"
      ]
     },
     "metadata": {
      "needs_background": "light"
     },
     "output_type": "display_data"
    }
   ],
   "source": [
    "# plot the graph\n",
    "\n",
    "plt.figure(figsize=(20,5))\n",
    "plt.plot(df2['Value'], \"-o\",  markersize=2); plt.show()"
   ]
  },
  {
   "cell_type": "markdown",
   "metadata": {},
   "source": [
    "Above graph shows that there are missing values at the beginning of graph"
   ]
  },
  {
   "cell_type": "code",
   "execution_count": 15,
   "metadata": {
    "colab": {
     "base_uri": "https://localhost:8080/"
    },
    "id": "-0DnvZCatcHg",
    "outputId": "060c69d8-42c0-400e-fb84-f3916c0c1e1f"
   },
   "outputs": [
    {
     "data": {
      "text/plain": [
       "Value    7548\n",
       "dtype: int64"
      ]
     },
     "execution_count": 15,
     "metadata": {},
     "output_type": "execute_result"
    }
   ],
   "source": [
    "# check for NAN values\n",
    "\n",
    "df2.isna().sum()"
   ]
  },
  {
   "cell_type": "code",
   "execution_count": 16,
   "metadata": {
    "colab": {
     "base_uri": "https://localhost:8080/",
     "height": 238
    },
    "id": "GTQu3NFXtcKB",
    "outputId": "552b2141-2cf0-4000-a79c-a48c723d1e07"
   },
   "outputs": [
    {
     "data": {
      "text/html": [
       "\n",
       "  <div id=\"df-eba51eef-698a-4270-a5a0-9790b5fc6248\">\n",
       "    <div class=\"colab-df-container\">\n",
       "      <div>\n",
       "<style scoped>\n",
       "    .dataframe tbody tr th:only-of-type {\n",
       "        vertical-align: middle;\n",
       "    }\n",
       "\n",
       "    .dataframe tbody tr th {\n",
       "        vertical-align: top;\n",
       "    }\n",
       "\n",
       "    .dataframe thead th {\n",
       "        text-align: right;\n",
       "    }\n",
       "</style>\n",
       "<table border=\"1\" class=\"dataframe\">\n",
       "  <thead>\n",
       "    <tr style=\"text-align: right;\">\n",
       "      <th></th>\n",
       "      <th>Value</th>\n",
       "    </tr>\n",
       "    <tr>\n",
       "      <th>Date</th>\n",
       "      <th></th>\n",
       "    </tr>\n",
       "  </thead>\n",
       "  <tbody>\n",
       "    <tr>\n",
       "      <th>1970-01-01</th>\n",
       "      <td>35.200000</td>\n",
       "    </tr>\n",
       "    <tr>\n",
       "      <th>1970-01-02</th>\n",
       "      <td>35.198889</td>\n",
       "    </tr>\n",
       "    <tr>\n",
       "      <th>1970-01-03</th>\n",
       "      <td>35.197778</td>\n",
       "    </tr>\n",
       "    <tr>\n",
       "      <th>1970-01-04</th>\n",
       "      <td>35.196667</td>\n",
       "    </tr>\n",
       "    <tr>\n",
       "      <th>1970-01-05</th>\n",
       "      <td>35.195556</td>\n",
       "    </tr>\n",
       "  </tbody>\n",
       "</table>\n",
       "</div>\n",
       "      <button class=\"colab-df-convert\" onclick=\"convertToInteractive('df-eba51eef-698a-4270-a5a0-9790b5fc6248')\"\n",
       "              title=\"Convert this dataframe to an interactive table.\"\n",
       "              style=\"display:none;\">\n",
       "        \n",
       "  <svg xmlns=\"http://www.w3.org/2000/svg\" height=\"24px\"viewBox=\"0 0 24 24\"\n",
       "       width=\"24px\">\n",
       "    <path d=\"M0 0h24v24H0V0z\" fill=\"none\"/>\n",
       "    <path d=\"M18.56 5.44l.94 2.06.94-2.06 2.06-.94-2.06-.94-.94-2.06-.94 2.06-2.06.94zm-11 1L8.5 8.5l.94-2.06 2.06-.94-2.06-.94L8.5 2.5l-.94 2.06-2.06.94zm10 10l.94 2.06.94-2.06 2.06-.94-2.06-.94-.94-2.06-.94 2.06-2.06.94z\"/><path d=\"M17.41 7.96l-1.37-1.37c-.4-.4-.92-.59-1.43-.59-.52 0-1.04.2-1.43.59L10.3 9.45l-7.72 7.72c-.78.78-.78 2.05 0 2.83L4 21.41c.39.39.9.59 1.41.59.51 0 1.02-.2 1.41-.59l7.78-7.78 2.81-2.81c.8-.78.8-2.07 0-2.86zM5.41 20L4 18.59l7.72-7.72 1.47 1.35L5.41 20z\"/>\n",
       "  </svg>\n",
       "      </button>\n",
       "      \n",
       "  <style>\n",
       "    .colab-df-container {\n",
       "      display:flex;\n",
       "      flex-wrap:wrap;\n",
       "      gap: 12px;\n",
       "    }\n",
       "\n",
       "    .colab-df-convert {\n",
       "      background-color: #E8F0FE;\n",
       "      border: none;\n",
       "      border-radius: 50%;\n",
       "      cursor: pointer;\n",
       "      display: none;\n",
       "      fill: #1967D2;\n",
       "      height: 32px;\n",
       "      padding: 0 0 0 0;\n",
       "      width: 32px;\n",
       "    }\n",
       "\n",
       "    .colab-df-convert:hover {\n",
       "      background-color: #E2EBFA;\n",
       "      box-shadow: 0px 1px 2px rgba(60, 64, 67, 0.3), 0px 1px 3px 1px rgba(60, 64, 67, 0.15);\n",
       "      fill: #174EA6;\n",
       "    }\n",
       "\n",
       "    [theme=dark] .colab-df-convert {\n",
       "      background-color: #3B4455;\n",
       "      fill: #D2E3FC;\n",
       "    }\n",
       "\n",
       "    [theme=dark] .colab-df-convert:hover {\n",
       "      background-color: #434B5C;\n",
       "      box-shadow: 0px 1px 3px 1px rgba(0, 0, 0, 0.15);\n",
       "      filter: drop-shadow(0px 1px 2px rgba(0, 0, 0, 0.3));\n",
       "      fill: #FFFFFF;\n",
       "    }\n",
       "  </style>\n",
       "\n",
       "      <script>\n",
       "        const buttonEl =\n",
       "          document.querySelector('#df-eba51eef-698a-4270-a5a0-9790b5fc6248 button.colab-df-convert');\n",
       "        buttonEl.style.display =\n",
       "          google.colab.kernel.accessAllowed ? 'block' : 'none';\n",
       "\n",
       "        async function convertToInteractive(key) {\n",
       "          const element = document.querySelector('#df-eba51eef-698a-4270-a5a0-9790b5fc6248');\n",
       "          const dataTable =\n",
       "            await google.colab.kernel.invokeFunction('convertToInteractive',\n",
       "                                                     [key], {});\n",
       "          if (!dataTable) return;\n",
       "\n",
       "          const docLinkHtml = 'Like what you see? Visit the ' +\n",
       "            '<a target=\"_blank\" href=https://colab.research.google.com/notebooks/data_table.ipynb>data table notebook</a>'\n",
       "            + ' to learn more about interactive tables.';\n",
       "          element.innerHTML = '';\n",
       "          dataTable['output_type'] = 'display_data';\n",
       "          await google.colab.output.renderOutput(dataTable, element);\n",
       "          const docLink = document.createElement('div');\n",
       "          docLink.innerHTML = docLinkHtml;\n",
       "          element.appendChild(docLink);\n",
       "        }\n",
       "      </script>\n",
       "    </div>\n",
       "  </div>\n",
       "  "
      ],
      "text/plain": [
       "                Value\n",
       "Date                 \n",
       "1970-01-01  35.200000\n",
       "1970-01-02  35.198889\n",
       "1970-01-03  35.197778\n",
       "1970-01-04  35.196667\n",
       "1970-01-05  35.195556"
      ]
     },
     "execution_count": 16,
     "metadata": {},
     "output_type": "execute_result"
    }
   ],
   "source": [
    "# fill the missing values with linear interpolation (data imputation)\n",
    "\n",
    "df3=df2.interpolate(method=\"linear\", limit_direction ='forward')\n",
    "df3.head()"
   ]
  },
  {
   "cell_type": "code",
   "execution_count": 17,
   "metadata": {
    "colab": {
     "base_uri": "https://localhost:8080/",
     "height": 320
    },
    "id": "xIkFHtYJtcMu",
    "outputId": "b4b2f89d-f65a-473e-aaaf-1e947797aa81"
   },
   "outputs": [
    {
     "data": {
      "image/png": "[encoded data removed]",
      "text/plain": [
       "<Figure size 1440x360 with 1 Axes>"
      ]
     },
     "metadata": {
      "needs_background": "light"
     },
     "output_type": "display_data"
    }
   ],
   "source": [
    "# re-plot the series after data imputation\n",
    "\n",
    "plt.figure(figsize=(20,5))\n",
    "plt.plot(df3['Value'], markersize=2); plt.show()"
   ]
  },
  {
   "cell_type": "code",
   "execution_count": 18,
   "metadata": {
    "id": "8C5On0YNtNq5"
   },
   "outputs": [],
   "source": [
    "# function to check whether series is stationary or not\n",
    "# using Augmented Dickey-Fuller test\n",
    "\n",
    "def check_stationarity(series):\n",
    "    adftest = adfuller(series, autolag='AIC')\n",
    "    p=adftest[1]\n",
    "    if p>=0.05:\n",
    "        print(\"Non stationary\\t; p-value - \",p)\n",
    "    else:\n",
    "        print(\"Stationary\\t; p-value - \",p)\n",
    "        "
   ]
  },
  {
   "cell_type": "code",
   "execution_count": 19,
   "metadata": {
    "colab": {
     "base_uri": "https://localhost:8080/"
    },
    "id": "YdYQWKYxtB_J",
    "outputId": "8b46873b-c363-4100-97eb-902439df6219"
   },
   "outputs": [
    {
     "name": "stdout",
     "output_type": "stream",
     "text": [
      "Non stationary\t; p-value -  0.9608544164174698\n"
     ]
    }
   ],
   "source": [
    "check_stationarity(df3['Value'].dropna())"
   ]
  },
  {
   "cell_type": "code",
   "execution_count": 20,
   "metadata": {
    "colab": {
     "base_uri": "https://localhost:8080/",
     "height": 444
    },
    "id": "mr8jv6Yz4_5_",
    "outputId": "47533607-76c8-4ff4-c9d5-7367cde9c865"
   },
   "outputs": [
    {
     "data": {
      "image/png": "[encoded data removed]",
      "text/plain": [
       "<Figure size 1080x504 with 2 Axes>"
      ]
     },
     "metadata": {
      "needs_background": "light"
     },
     "output_type": "display_data"
    }
   ],
   "source": [
    "# Plot ACF/PACF charts to analyze the series\n",
    "\n",
    "_,ax=plt.subplots(2,1, figsize=(15,7))\n",
    "plot_acf(df3, ax[0], lags=64)\n",
    "plot_pacf(df3, ax[1], lags=64)\n",
    "plt.show()"
   ]
  },
  {
   "cell_type": "code",
   "execution_count": 21,
   "metadata": {
    "colab": {
     "base_uri": "https://localhost:8080/",
     "height": 351
    },
    "id": "__2EcnbE5Lh_",
    "outputId": "850d9a02-7ba8-4f9b-d38e-45c750816145"
   },
   "outputs": [
    {
     "data": {
      "text/plain": [
       "<matplotlib.axes._subplots.AxesSubplot at 0x7f55241cb4d0>"
      ]
     },
     "execution_count": 21,
     "metadata": {},
     "output_type": "execute_result"
    },
    {
     "data": {
      "image/png": "[encoded data removed]",
      "text/plain": [
       "<Figure size 1440x360 with 1 Axes>"
      ]
     },
     "metadata": {
      "needs_background": "light"
     },
     "output_type": "display_data"
    }
   ],
   "source": [
    "#  As the series is non-stationary, lets do differencing and check its graph\n",
    "\n",
    "df_temp=df3.copy()\n",
    "df_temp['diff1']=df_temp['Value'] - df_temp['Value'].shift(1)\n",
    "df_temp.plot(figsize=(20,5))"
   ]
  },
  {
   "cell_type": "code",
   "execution_count": 22,
   "metadata": {
    "colab": {
     "base_uri": "https://localhost:8080/"
    },
    "id": "XEHxBYom5c8t",
    "outputId": "e08b4d52-9657-4b8e-a674-54d302b3763b"
   },
   "outputs": [
    {
     "name": "stdout",
     "output_type": "stream",
     "text": [
      "Stationary\t; p-value -  0.0\n"
     ]
    }
   ],
   "source": [
    "# Lets verify whether differenced series is stationary\n",
    "\n",
    "check_stationarity(df_temp['diff1'].dropna())"
   ]
  },
  {
   "cell_type": "markdown",
   "metadata": {},
   "source": [
    " After differencing, we could successfully make the series stationary"
   ]
  },
  {
   "cell_type": "code",
   "execution_count": 23,
   "metadata": {
    "colab": {
     "base_uri": "https://localhost:8080/",
     "height": 879
    },
    "id": "7FjHwtTw53jk",
    "outputId": "5a1434e2-a5d7-4aee-826e-efe5fa1993da"
   },
   "outputs": [
    {
     "data": {
      "image/png": "[encoded data removed]",
      "text/plain": [
       "<Figure size 1440x1080 with 2 Axes>"
      ]
     },
     "metadata": {
      "needs_background": "light"
     },
     "output_type": "display_data"
    }
   ],
   "source": [
    "# Just see the ACF/PACF plots of differenced series\n",
    "\n",
    "_,ax=plt.subplots(2,1, figsize=(20,15))\n",
    "plot_acf(df_temp['diff1'].dropna(), ax[0])\n",
    "plot_pacf(df_temp['diff1'].dropna(), ax[1])\n",
    "plt.show()"
   ]
  },
  {
   "cell_type": "markdown",
   "metadata": {
    "id": "BhWh4b0J8Tv2"
   },
   "source": [
    "# Model Building"
   ]
  },
  {
   "cell_type": "markdown",
   "metadata": {},
   "source": [
    "To get the best model to fit on historical data and do best forecasting, we will use variety of models"
   ]
  },
  {
   "cell_type": "code",
   "execution_count": 24,
   "metadata": {
    "colab": {
     "base_uri": "https://localhost:8080/",
     "height": 355
    },
    "id": "UMSyoWOFEA4w",
    "outputId": "8003ec6f-ed32-44e7-d096-facf35bafe87"
   },
   "outputs": [
    {
     "name": "stdout",
     "output_type": "stream",
     "text": [
      "Whole time series length\t 18335\n",
      "Train/Val split\t\t\t 16501\n"
     ]
    },
    {
     "data": {
      "image/png": "[encoded data removed]",
      "text/plain": [
       "<Figure size 1440x360 with 1 Axes>"
      ]
     },
     "metadata": {
      "needs_background": "light"
     },
     "output_type": "display_data"
    }
   ],
   "source": [
    "# train/val split of time series\n",
    "\n",
    "data=df3[\"Value\"]\n",
    "print(\"Whole time series length\\t\", data.shape[0])\n",
    "\n",
    "N0=data.shape[0]\n",
    "N=int(N0*0.9)\n",
    "print(\"Train/Val split\\t\\t\\t\", N)\n",
    "\n",
    "train_data=data[:N]\n",
    "val_data=data[N:]\n",
    "\n",
    "plt.figure(figsize=(20,5))\n",
    "plt.plot( np.arange(0,N), data[:N], color=\"b\" )\n",
    "plt.plot( np.arange(N,N0), data[N:], color=\"g\" )\n",
    "plt.legend([\"train\", \"val\"], loc=\"upper left\")\n",
    "plt.show()"
   ]
  },
  {
   "cell_type": "markdown",
   "metadata": {},
   "source": [
    "The blue curve is the historical(training) data and green is our vaidation data"
   ]
  },
  {
   "cell_type": "code",
   "execution_count": 25,
   "metadata": {
    "id": "tDFPNisV56Ig"
   },
   "outputs": [],
   "source": [
    "from sklearn.metrics import mean_absolute_error\n",
    "from sklearn.metrics import mean_squared_error\n",
    "from sklearn.metrics import mean_absolute_percentage_error\n",
    "\n",
    "\n",
    "def get_metrics(true_values, prediction):\n",
    "    mae=mean_absolute_error(true_values, prediction).round(3)\n",
    "    mape=mean_absolute_percentage_error(true_values, prediction).round(3)\n",
    "    mse=mean_squared_error(true_values, prediction).round(3)\n",
    "    rmse=np.sqrt(mse).round(3)\n",
    "\n",
    "    return mape, mae, mse, rmse\n"
   ]
  },
  {
   "cell_type": "code",
   "execution_count": 26,
   "metadata": {
    "id": "5HAuN_kJeeOG"
   },
   "outputs": [],
   "source": [
    "# function to plot historcal, validation data alongwith prediction of model\n",
    "\n",
    "def plot_predictions(predicted_data):\n",
    "    plt.figure(figsize=(20,5))\n",
    "    plt.plot( np.arange(0,N), data[:N], color=\"b\")          # historical data\n",
    "    plt.plot( np.arange(N,N0), data[N:], color=\"g\" )        # validation data\n",
    "    plt.plot( np.arange(N,N0), predicted_data, color=\"r\" )  # predicted data\n",
    "    plt.legend([\"train\", \"val\", \"forecasted\"], loc=\"upper left\")\n",
    "    plt.show()    \n",
    "    "
   ]
  },
  {
   "cell_type": "markdown",
   "metadata": {
    "id": "Y3rFHIWWkHUA"
   },
   "source": [
    "## Exponential Smoothing"
   ]
  },
  {
   "cell_type": "code",
   "execution_count": 27,
   "metadata": {
    "id": "1kutB7FzkMDl"
   },
   "outputs": [],
   "source": [
    "# create config list for exponential Smoothing to get the hyper-parameters\n",
    "\n",
    "def exp_smoothing_config_list():\n",
    "    config_ll = []\n",
    " \n",
    "    t_params = ['add', None]\n",
    "    d_params = [True, False]\n",
    "    s_params = ['add', None]\n",
    "    p_params = [52, None]\n",
    "\n",
    "    for t in t_params:\n",
    "        for d in d_params:\n",
    "            for s in s_params:\n",
    "                for p in p_params:\n",
    "                    cfg = [t,d,s,p]\n",
    "                    config_ll.append(cfg)\n",
    "     \n",
    "    return config_ll\n"
   ]
  },
  {
   "cell_type": "code",
   "execution_count": 28,
   "metadata": {
    "id": "sRh10ZaJkMG5"
   },
   "outputs": [],
   "source": [
    "# get the config list of hyper-parameters\n",
    "\n",
    "config_ll=exp_smoothing_config_list()"
   ]
  },
  {
   "cell_type": "code",
   "execution_count": null,
   "metadata": {
    "id": "2SbRZWEdkMKN"
   },
   "outputs": [],
   "source": [
    "# train the best model using best config \n",
    "\n",
    "saved_model=None\n",
    "saved_config=None\n",
    "error=np.inf\n",
    "\n",
    "for config in tqdm(config_ll):\n",
    "    t,d,s,p=config\n",
    "    try:\n",
    "        model = ExponentialSmoothing(train_data, trend=t, damped=d, seasonal=s, seasonal_periods=p)\n",
    "        hw_model=model.fit()\n",
    "        pred = hw_model.forecast( len(val_data) )\n",
    "\n",
    "        mae=mean_absolute_error(val_data, pred)\n",
    "        if mae<error:\n",
    "            error=mae\n",
    "            saved_config=config\n",
    "            saved_model=hw_model\n",
    "    except:\n",
    "        pass\n"
   ]
  },
  {
   "cell_type": "code",
   "execution_count": 38,
   "metadata": {
    "colab": {
     "base_uri": "https://localhost:8080/"
    },
    "id": "IdLWe_8dkY8n",
    "outputId": "785c4873-12c1-45ff-cea6-e79f7a9572d9"
   },
   "outputs": [
    {
     "name": "stdout",
     "output_type": "stream",
     "text": [
      "MAPE 0.055, MAE : 73.084, MSE : 10243.06, RMSE : 101.208 \n"
     ]
    }
   ],
   "source": [
    "# do forecasting of the model and check by metrics its performance\n",
    "\n",
    "pred_Y = saved_model.forecast( len(val_data) )\n",
    "\n",
    "mape, mae, mse, rmse = get_metrics(val_data, pred_Y)\n",
    "print(\"MAPE {}, MAE : {}, MSE : {}, RMSE : {} \".format(mape, mae, mse, rmse))"
   ]
  },
  {
   "cell_type": "code",
   "execution_count": 39,
   "metadata": {
    "colab": {
     "base_uri": "https://localhost:8080/",
     "height": 320
    },
    "id": "utWswDO5kZAh",
    "outputId": "fa57f6c4-67b1-4668-8cf7-65925d80afbe"
   },
   "outputs": [
    {
     "data": {
      "image/png": "[encoded data removed]",
      "text/plain": [
       "<Figure size 1440x360 with 1 Axes>"
      ]
     },
     "metadata": {
      "needs_background": "light"
     },
     "output_type": "display_data"
    }
   ],
   "source": [
    "# plot the predictions by model\n",
    "\n",
    "plot_predictions(pred_Y)"
   ]
  },
  {
   "cell_type": "markdown",
   "metadata": {},
   "source": [
    "We can see that the model prediction is to a large extent a straight line being red in colour against the validation data in green coloured curve"
   ]
  },
  {
   "cell_type": "markdown",
   "metadata": {
    "id": "mCElFCczpi_i"
   },
   "source": [
    "## Machine Learning\n"
   ]
  },
  {
   "cell_type": "code",
   "execution_count": 40,
   "metadata": {
    "id": "Kf9Hm2F9qmmi"
   },
   "outputs": [],
   "source": [
    "# train/val split of data with formatting in such a way that can be fed to the ML models\n",
    "\n",
    "def train_val_ml_split(data, lags):\n",
    "    d2=data.copy()\n",
    "\n",
    "    for i in range(1, lags+1):\n",
    "        col_name=\"lag-\"+str(i)\n",
    "        d2[col_name]=data.shift(i)\n",
    "\n",
    "    d2=d2.dropna()\n",
    "    train=d2.loc[:\"2015-03-06\"]\n",
    "    val=d2.loc[\"2015-03-07\":]\n",
    "    \n",
    "    return train, val\n"
   ]
  },
  {
   "cell_type": "code",
   "execution_count": 42,
   "metadata": {
    "id": "JEWuqEUmMBde"
   },
   "outputs": [],
   "source": [
    "# split train/val data\n",
    "data_train_ml, data_val_ml = train_val_ml_split(df3, 5)\n",
    "\n",
    "# convert it to numpy format\n",
    "data_train_ml=data_train_ml.to_numpy()\n",
    "data_val_ml=data_val_ml.to_numpy()\n",
    "\n",
    "# split the data with historical data vector and its forecasted value\n",
    "train_X=data_train_ml[:,1:]\n",
    "train_Y=data_train_ml[:,0]\n",
    "\n",
    "val_X=data_val_ml[:,1:]\n",
    "val_Y=data_val_ml[:,0]\n",
    "\n",
    "# perform scaling operations to prepare data before training\n",
    "sc=StandardScaler()\n",
    "train_X=sc.fit_transform(train_X)\n",
    "val_X=sc.transform(val_X)"
   ]
  },
  {
   "cell_type": "code",
   "execution_count": 43,
   "metadata": {
    "colab": {
     "base_uri": "https://localhost:8080/"
    },
    "id": "c3mPfKGasQdt",
    "outputId": "b9e9e49c-1d6f-46a7-dc21-ea3fab8a3e41"
   },
   "outputs": [
    {
     "data": {
      "text/plain": [
       "array([[  35.19444444,   35.19555556,   35.19666667,   35.19777778,\n",
       "          35.19888889,   35.2       ],\n",
       "       [  35.19333333,   35.19444444,   35.19555556,   35.19666667,\n",
       "          35.19777778,   35.19888889],\n",
       "       [  35.19222222,   35.19333333,   35.19444444,   35.19555556,\n",
       "          35.19666667,   35.19777778],\n",
       "       ...,\n",
       "       [1199.5       , 1212.75      , 1212.5       , 1213.        ,\n",
       "        1213.5       , 1214.        ],\n",
       "       [1202.        , 1199.5       , 1212.75      , 1212.5       ,\n",
       "        1213.        , 1213.5       ],\n",
       "       [1175.75      , 1202.        , 1199.5       , 1212.75      ,\n",
       "        1212.5       , 1213.        ]])"
      ]
     },
     "execution_count": 43,
     "metadata": {},
     "output_type": "execute_result"
    }
   ],
   "source": [
    "data_train_ml"
   ]
  },
  {
   "cell_type": "code",
   "execution_count": 45,
   "metadata": {
    "colab": {
     "base_uri": "https://localhost:8080/"
    },
    "id": "HchF37SEsRM3",
    "outputId": "0e8458bb-ad22-4365-9218-d881424bfeaa"
   },
   "outputs": [
    {
     "name": "stdout",
     "output_type": "stream",
     "text": [
      "[[1173.33333333 1175.75       1202.         1199.5        1212.75\n",
      "  1212.5       ]\n",
      " [1170.91666667 1173.33333333 1175.75       1202.         1199.5\n",
      "  1212.75      ]\n",
      " [1168.5        1170.91666667 1173.33333333 1175.75       1202.\n",
      "  1199.5       ]\n",
      " ...\n",
      " [1653.75       1655.7        1672.5        1676.21666667 1679.93333333\n",
      "  1683.65      ]\n",
      " [1570.7        1653.75       1655.7        1672.5        1676.21666667\n",
      "  1679.93333333]\n",
      " [1562.8        1570.7        1653.75       1655.7        1672.5\n",
      "  1676.21666667]]\n"
     ]
    }
   ],
   "source": [
    "data_val_ml"
   ]
  },
  {
   "cell_type": "code",
   "execution_count": 47,
   "metadata": {
    "colab": {
     "base_uri": "https://localhost:8080/"
    },
    "id": "RJ4PlOTlyErI",
    "outputId": "568e2433-f90d-48ac-f618-8dc4cf476198"
   },
   "outputs": [
    {
     "data": {
      "text/plain": [
       "((16496, 5), (16496,), (1834, 5), (1834,))"
      ]
     },
     "execution_count": 47,
     "metadata": {},
     "output_type": "execute_result"
    }
   ],
   "source": [
    "train_X.shape, train_Y.shape, val_X.shape, val_Y.shape"
   ]
  },
  {
   "cell_type": "markdown",
   "metadata": {
    "id": "afRp5lxg81pH"
   },
   "source": [
    "### Random Forest"
   ]
  },
  {
   "cell_type": "code",
   "execution_count": null,
   "metadata": {
    "id": "8HowaMdksjpk"
   },
   "outputs": [],
   "source": [
    "# get the different hyper-parameters for grid search for random-forest model\n",
    "param_grid = [\n",
    "{'n_estimators': [3, 10, 30], 'max_depth': [3, 4, 6, 8, 12]},\n",
    "{'bootstrap': [False], 'n_estimators': [3, 6, 10], 'max_depth': [3, 4, 6, 12]},\n",
    "]\n",
    "\n",
    "# create a model\n",
    "forest_reg = RandomForestRegressor()\n",
    "\n",
    "# do grid-search to get the best model\n",
    "grid_search = GridSearchCV(forest_reg, param_grid, cv=10, \n",
    "                           scoring='neg_mean_squared_error', \n",
    "                           return_train_score=True, verbose=2)\n",
    "\n",
    "\n",
    "grid_search.fit(train_X, train_Y)"
   ]
  },
  {
   "cell_type": "code",
   "execution_count": 49,
   "metadata": {
    "colab": {
     "base_uri": "https://localhost:8080/"
    },
    "id": "fxZexXjlyW15",
    "outputId": "7f655afc-b498-42b7-f19b-1c89cda6659b"
   },
   "outputs": [
    {
     "name": "stdout",
     "output_type": "stream",
     "text": [
      "{'max_depth': 12, 'n_estimators': 3}\n"
     ]
    }
   ],
   "source": [
    "# get the best hyper-parameters\n",
    "print(grid_search.best_params_)"
   ]
  },
  {
   "cell_type": "code",
   "execution_count": 50,
   "metadata": {
    "id": "jUwrb9Ua4wwk"
   },
   "outputs": [],
   "source": [
    "# get the best model for the best chosen hyper-parameters\n",
    "forest_reg = grid_search.best_estimator_"
   ]
  },
  {
   "cell_type": "code",
   "execution_count": 51,
   "metadata": {
    "colab": {
     "base_uri": "https://localhost:8080/"
    },
    "id": "AWsrx-ja5jeW",
    "outputId": "fb71a3fa-3ffd-448c-9370-302ecec2bb8a"
   },
   "outputs": [
    {
     "name": "stdout",
     "output_type": "stream",
     "text": [
      "MAPE 0.006, MAE : 7.637, MSE : 117.332, RMSE : 10.832 \n"
     ]
    }
   ],
   "source": [
    "# make predictions on val data\n",
    "pred_Y=forest_reg.predict(val_X)\n",
    "\n",
    "# check its metrics\n",
    "mape, mae, mse, rmse = get_metrics(val_Y, pred_Y)\n",
    "print(\"MAPE {}, MAE : {}, MSE : {}, RMSE : {} \".format(mape, mae, mse, rmse))"
   ]
  },
  {
   "cell_type": "code",
   "execution_count": 52,
   "metadata": {
    "colab": {
     "base_uri": "https://localhost:8080/",
     "height": 320
    },
    "id": "u2E6_VdV7Fh9",
    "outputId": "27ac69b8-a308-4df0-959d-a4dbcc80be59"
   },
   "outputs": [
    {
     "data": {
      "image/png": "[encoded data removed]",
      "text/plain": [
       "<Figure size 1440x360 with 1 Axes>"
      ]
     },
     "metadata": {
      "needs_background": "light"
     },
     "output_type": "display_data"
    }
   ],
   "source": [
    "# plot the curves\n",
    "plot_predictions(pred_Y)"
   ]
  },
  {
   "cell_type": "markdown",
   "metadata": {},
   "source": [
    "As we can see, that random-forest predictions overlaps the validation data of time series"
   ]
  },
  {
   "cell_type": "markdown",
   "metadata": {
    "id": "arhOSKWu85iZ"
   },
   "source": [
    "### XGBoost"
   ]
  },
  {
   "cell_type": "code",
   "execution_count": null,
   "metadata": {
    "id": "rdD8L2wE8sS-"
   },
   "outputs": [],
   "source": [
    "param_grid = {\n",
    "        'gamma': [0.5, 1, 1.5, 2, 5],\n",
    "        'subsample': [0.6, 0.8, 1.0],\n",
    "        'max_depth': [3, 4, 5]\n",
    "        }\n",
    "\n",
    "xgb_reg = XGBRegressor()\n",
    "\n",
    "grid_search = GridSearchCV(xgb_reg, param_grid, cv=10, \n",
    "                           scoring='neg_mean_squared_error', \n",
    "                           return_train_score=True, verbose=2)\n",
    "\n",
    "grid_search.fit(train_X, train_Y)"
   ]
  },
  {
   "cell_type": "code",
   "execution_count": 54,
   "metadata": {
    "colab": {
     "base_uri": "https://localhost:8080/"
    },
    "id": "eBVr9UgP9FHY",
    "outputId": "db7c7554-0253-45e2-f86b-4714981e1135"
   },
   "outputs": [
    {
     "name": "stdout",
     "output_type": "stream",
     "text": [
      "{'gamma': 1.5, 'max_depth': 3, 'subsample': 0.6}\n"
     ]
    }
   ],
   "source": [
    "print(grid_search.best_params_)"
   ]
  },
  {
   "cell_type": "code",
   "execution_count": 55,
   "metadata": {
    "id": "vfZMKXtv9FKt"
   },
   "outputs": [],
   "source": [
    "xgb_reg = grid_search.best_estimator_"
   ]
  },
  {
   "cell_type": "code",
   "execution_count": 56,
   "metadata": {
    "colab": {
     "base_uri": "https://localhost:8080/"
    },
    "id": "7BUMKuXq9FOH",
    "outputId": "d676fffc-4de9-4c83-d2b8-4bfb9859b1e1"
   },
   "outputs": [
    {
     "name": "stdout",
     "output_type": "stream",
     "text": [
      "MAPE 0.005, MAE : 6.98, MSE : 97.946, RMSE : 9.897 \n"
     ]
    }
   ],
   "source": [
    "pred_Y=xgb_reg.predict(val_X)\n",
    "\n",
    "mape, mae, mse, rmse = get_metrics(val_Y, pred_Y)\n",
    "print(\"MAPE {}, MAE : {}, MSE : {}, RMSE : {} \".format(mape, mae, mse, rmse))"
   ]
  },
  {
   "cell_type": "code",
   "execution_count": 57,
   "metadata": {
    "colab": {
     "base_uri": "https://localhost:8080/",
     "height": 320
    },
    "id": "BtcMK1XU9NXa",
    "outputId": "a31d7e9c-b7f2-4480-a569-1bdd5f320b1a"
   },
   "outputs": [
    {
     "data": {
      "image/png": "[encoded data removed]",
      "text/plain": [
       "<Figure size 1440x360 with 1 Axes>"
      ]
     },
     "metadata": {
      "needs_background": "light"
     },
     "output_type": "display_data"
    }
   ],
   "source": [
    "plot_predictions(pred_Y)"
   ]
  },
  {
   "cell_type": "markdown",
   "metadata": {
    "id": "xhOjIspAD7nb"
   },
   "source": [
    "### Polynomial Regression"
   ]
  },
  {
   "cell_type": "code",
   "execution_count": null,
   "metadata": {
    "id": "5_YYZKpREAtf"
   },
   "outputs": [],
   "source": [
    "param_grid = {\n",
    "        'poly_features__degree': [3, 5, 7],\n",
    "        'poly_features__include_bias': [False, True],\n",
    "        }\n",
    "\n",
    "polynomial_regressor = Pipeline([\n",
    "                                  (\"poly_features\", PolynomialFeatures()),\n",
    "                                  (\"lin_reg\", LinearRegression()),\n",
    "                                ])\n",
    "                                  \n",
    "grid_search = GridSearchCV(polynomial_regressor, param_grid, cv=10, \n",
    "                           scoring='neg_mean_squared_error', \n",
    "                           return_train_score=True, verbose=2)\n",
    "\n",
    "grid_search.fit(train_X, train_Y)"
   ]
  },
  {
   "cell_type": "code",
   "execution_count": 59,
   "metadata": {
    "colab": {
     "base_uri": "https://localhost:8080/"
    },
    "id": "ZmqduNOOD-Cs",
    "outputId": "11a0351b-44c0-459e-f272-eaa0e0729740"
   },
   "outputs": [
    {
     "name": "stdout",
     "output_type": "stream",
     "text": [
      "{'poly_features__degree': 3, 'poly_features__include_bias': True}\n"
     ]
    }
   ],
   "source": [
    "print(grid_search.best_params_)"
   ]
  },
  {
   "cell_type": "code",
   "execution_count": 60,
   "metadata": {
    "id": "kweF_fwlGec_"
   },
   "outputs": [],
   "source": [
    "poly_reg = grid_search.best_estimator_"
   ]
  },
  {
   "cell_type": "code",
   "execution_count": 61,
   "metadata": {
    "colab": {
     "base_uri": "https://localhost:8080/"
    },
    "id": "tSfEwCuWGeg-",
    "outputId": "84096008-2336-4dd9-f98e-ece51957c3de"
   },
   "outputs": [
    {
     "name": "stdout",
     "output_type": "stream",
     "text": [
      "MAPE 0.004, MAE : 5.169, MSE : 66.597, RMSE : 8.161 \n"
     ]
    }
   ],
   "source": [
    "pred_Y=poly_reg.predict(val_X)\n",
    "\n",
    "mape, mae, mse, rmse = get_metrics(val_Y, pred_Y)\n",
    "print(\"MAPE {}, MAE : {}, MSE : {}, RMSE : {} \".format(mape, mae, mse, rmse))"
   ]
  },
  {
   "cell_type": "code",
   "execution_count": 62,
   "metadata": {
    "colab": {
     "base_uri": "https://localhost:8080/",
     "height": 320
    },
    "id": "CTHcZEQPGlzP",
    "outputId": "3303f478-5de3-4215-ba1a-78445bffa3bb"
   },
   "outputs": [
    {
     "data": {
      "image/png": "[encoded data removed]",
      "text/plain": [
       "<Figure size 1440x360 with 1 Axes>"
      ]
     },
     "metadata": {
      "needs_background": "light"
     },
     "output_type": "display_data"
    }
   ],
   "source": [
    "plot_predictions(pred_Y)"
   ]
  },
  {
   "cell_type": "markdown",
   "metadata": {
    "id": "UEVydnRdMsrS"
   },
   "source": [
    "### Suport Vector Regressor"
   ]
  },
  {
   "cell_type": "code",
   "execution_count": null,
   "metadata": {
    "id": "F4laLm5NHb-X"
   },
   "outputs": [],
   "source": [
    "param_grid = [ {'kernel': ['linear', 'rbf'], 'gamma' : ['auto','scale'] }, \n",
    "                {'kernel': ['poly'], \"degree\":[3, 5], 'gamma' : ['auto','scale'] }, \n",
    "                ]\n",
    "\n",
    "svm_reg = SVR()\n",
    "\n",
    "grid_search = GridSearchCV(svm_reg, param_grid, cv=10, \n",
    "                           scoring='neg_mean_squared_error', \n",
    "                           return_train_score=True, verbose=2)\n",
    "\n",
    "grid_search.fit(train_X, train_Y)"
   ]
  },
  {
   "cell_type": "code",
   "execution_count": 64,
   "metadata": {
    "colab": {
     "base_uri": "https://localhost:8080/"
    },
    "id": "164tfxECHg_4",
    "outputId": "476da971-7792-497c-a127-e46caa4dfd33"
   },
   "outputs": [
    {
     "name": "stdout",
     "output_type": "stream",
     "text": [
      "{'gamma': 'auto', 'kernel': 'linear'}\n"
     ]
    }
   ],
   "source": [
    "print(grid_search.best_params_)"
   ]
  },
  {
   "cell_type": "code",
   "execution_count": 65,
   "metadata": {
    "id": "8qH_2sUFNBfn"
   },
   "outputs": [],
   "source": [
    "svm_reg = grid_search.best_estimator_"
   ]
  },
  {
   "cell_type": "code",
   "execution_count": 66,
   "metadata": {
    "colab": {
     "base_uri": "https://localhost:8080/"
    },
    "id": "qiJR5-e_NBjk",
    "outputId": "ec467c89-3ee8-4f5f-d613-7d3541a1095f"
   },
   "outputs": [
    {
     "name": "stdout",
     "output_type": "stream",
     "text": [
      "MAPE 0.006, MAE : 7.081, MSE : 101.112, RMSE : 10.055 \n"
     ]
    }
   ],
   "source": [
    "pred_Y=svm_reg.predict(val_X)\n",
    "\n",
    "mape, mae, mse, rmse = get_metrics(val_Y, pred_Y)\n",
    "print(\"MAPE {}, MAE : {}, MSE : {}, RMSE : {} \".format(mape, mae, mse, rmse))"
   ]
  },
  {
   "cell_type": "code",
   "execution_count": 67,
   "metadata": {
    "colab": {
     "base_uri": "https://localhost:8080/",
     "height": 320
    },
    "id": "qdGVIc-qNBoo",
    "outputId": "532550a8-afbb-404f-813b-8864bdf9fb1b"
   },
   "outputs": [
    {
     "data": {
      "image/png": "[encoded data removed]",
      "text/plain": [
       "<Figure size 1440x360 with 1 Axes>"
      ]
     },
     "metadata": {
      "needs_background": "light"
     },
     "output_type": "display_data"
    }
   ],
   "source": [
    "plot_predictions(pred_Y)"
   ]
  },
  {
   "cell_type": "markdown",
   "metadata": {
    "id": "M6iY8RgEzziL"
   },
   "source": [
    "## Recurrent Networks"
   ]
  },
  {
   "cell_type": "markdown",
   "metadata": {},
   "source": [
    "We will now use recurrent neural networks to model the time series using RNN and LSTM"
   ]
  },
  {
   "cell_type": "code",
   "execution_count": 68,
   "metadata": {
    "id": "IanGXOP9ml7r"
   },
   "outputs": [],
   "source": [
    "import tensorflow\n",
    "from tensorflow.keras.layers import Input, LSTM, GRU, Flatten\n",
    "from tensorflow.keras.layers import SimpleRNN, Dense, Dropout\n",
    "from tensorflow.keras.models import Model\n",
    "from tensorflow.keras.optimizers import Adam\n",
    "from tensorflow.keras.callbacks import EarlyStopping, ReduceLROnPlateau, LearningRateScheduler\n",
    "\n",
    "from tensorflow.keras import backend as K"
   ]
  },
  {
   "cell_type": "code",
   "execution_count": 69,
   "metadata": {
    "id": "Rq1dYbiaB-oe"
   },
   "outputs": [],
   "source": [
    "tensorflow.config.run_functions_eagerly(True)"
   ]
  },
  {
   "cell_type": "code",
   "execution_count": 74,
   "metadata": {
    "colab": {
     "base_uri": "https://localhost:8080/"
    },
    "id": "dh-WTsEdCUpy",
    "outputId": "2bd34351-7910-460a-8a82-9a0ea8fc0124"
   },
   "outputs": [
    {
     "data": {
      "text/plain": [
       "((16496, 1, 5), (1834, 1, 5))"
      ]
     },
     "execution_count": 74,
     "metadata": {},
     "output_type": "execute_result"
    }
   ],
   "source": [
    "# reshape train/val data for neural networks\n",
    "\n",
    "timesteps=5\n",
    "train_X2=train_X.reshape(-1,1,timesteps)\n",
    "val_X2=val_X.reshape(-1,1,timesteps)\n",
    "\n",
    "train_X2.shape, val_X2.shape"
   ]
  },
  {
   "cell_type": "code",
   "execution_count": 70,
   "metadata": {
    "id": "cq82UK9JCCLM"
   },
   "outputs": [],
   "source": [
    "# plotting the model loss and learning rate while training progresses\n",
    "\n",
    "def plot_training_history(history):\n",
    "  train_loss=history.history['loss']\n",
    "  val_loss=history.history['val_loss']  \n",
    "  lr=history.history['lr'] \n",
    "\n",
    "  X=np.arange(1, len(lr)+1)\n",
    "\n",
    "  _,ax=plt.subplots(1,2, figsize=(20,6))\n",
    "  ax=ax.ravel()\n",
    "  ax[0].plot(X, train_loss, \"-bo\")\n",
    "  ax[0].plot(X, val_loss, \"-ro\")  \n",
    "  ax[0].legend([\"train\", \"val\"])\n",
    "  ax[0].set_title(\"Loss curve\")\n",
    "\n",
    "  ax[1].plot(X, lr)\n",
    "  ax[1].set_title(\"learning rate\")\n",
    "\n",
    "  plt.show()\n",
    "  "
   ]
  },
  {
   "cell_type": "markdown",
   "metadata": {
    "id": "orkfFObYGUSL"
   },
   "source": [
    "### RNN"
   ]
  },
  {
   "cell_type": "code",
   "execution_count": 71,
   "metadata": {
    "colab": {
     "base_uri": "https://localhost:8080/"
    },
    "id": "jUGWNfPNCGNJ",
    "outputId": "ed24403a-b3c1-4026-b5f8-3d2d0d7389ca"
   },
   "outputs": [
    {
     "name": "stdout",
     "output_type": "stream",
     "text": [
      "Model: \"model\"\n",
      "_________________________________________________________________\n",
      " Layer (type)                Output Shape              Param #   \n",
      "=================================================================\n",
      " input_1 (InputLayer)        [(None, 1, 5)]            0         \n",
      "                                                                 \n",
      " simple_rnn (SimpleRNN)      (None, 1, 256)            67072     \n",
      "                                                                 \n",
      " dropout (Dropout)           (None, 1, 256)            0         \n",
      "                                                                 \n",
      " flatten (Flatten)           (None, 256)               0         \n",
      "                                                                 \n",
      " dense (Dense)               (None, 1)                 257       \n",
      "                                                                 \n",
      "=================================================================\n",
      "Total params: 67,329\n",
      "Trainable params: 67,329\n",
      "Non-trainable params: 0\n",
      "_________________________________________________________________\n"
     ]
    }
   ],
   "source": [
    "# create RNN network accepting a vector of data of previous timesteps \n",
    "# and predicting new value of next time step\n",
    "\n",
    "def create_rnn_model(n_timesteps=5):\n",
    "  inp=Input((1, n_timesteps))\n",
    "  x=inp\n",
    "  x=SimpleRNN(units=256, return_sequences=True)(x)     # RNN layer\n",
    "  x=Dropout(0.3)(x)\n",
    "  x=Flatten()(x)\n",
    "  x=Dense(1)(x)\n",
    "\n",
    "  model=Model(inp, x)\n",
    "  return model\n",
    "\n",
    "# create model\n",
    "\n",
    "K.clear_session()  \n",
    "model=create_rnn_model(5)\n",
    "model.compile(optimizer=Adam(1E-2), loss=\"mse\")\n",
    "model.summary()"
   ]
  },
  {
   "cell_type": "code",
   "execution_count": 75,
   "metadata": {
    "colab": {
     "base_uri": "https://localhost:8080/"
    },
    "id": "PvZ92roOCNjI",
    "outputId": "0b8939da-34bf-4ed9-eed7-c324f8ccfadd"
   },
   "outputs": [
    {
     "name": "stdout",
     "output_type": "stream",
     "text": [
      "Epoch 1/40\n"
     ]
    },
    {
     "name": "stderr",
     "output_type": "stream",
     "text": [
      "/usr/local/lib/python3.7/dist-packages/tensorflow/python/data/ops/structured_function.py:265: UserWarning: Even though the `tf.config.experimental_run_functions_eagerly` option is set, this option does not apply to tf.data functions. To force eager execution of tf.data functions, please use `tf.data.experimental.enable_debug_mode()`.\n",
      "  \"Even though the `tf.config.experimental_run_functions_eagerly` \"\n"
     ]
    },
    {
     "name": "stdout",
     "output_type": "stream",
     "text": [
      "33/33 [==============================] - 20s 621ms/step - loss: 195541.1562 - val_loss: 329654.8125 - lr: 0.1000\n",
      "Epoch 2/40\n",
      "33/33 [==============================] - 22s 671ms/step - loss: 46099.3555 - val_loss: 75309.8906 - lr: 0.1000\n",
      "Epoch 3/40\n",
      "33/33 [==============================] - 21s 670ms/step - loss: 25007.3262 - val_loss: 25510.1562 - lr: 0.1000\n",
      "Epoch 4/40\n",
      "33/33 [==============================] - 17s 528ms/step - loss: 12885.4990 - val_loss: 6772.7290 - lr: 0.1000\n",
      "Epoch 5/40\n",
      "33/33 [==============================] - 19s 591ms/step - loss: 7389.4053 - val_loss: 2895.3989 - lr: 0.1000\n",
      "Epoch 6/40\n",
      "33/33 [==============================] - 21s 670ms/step - loss: 5221.0688 - val_loss: 1027.9230 - lr: 0.1000\n",
      "Epoch 7/40\n",
      "33/33 [==============================] - 21s 670ms/step - loss: 4607.4717 - val_loss: 4713.7271 - lr: 0.1000\n",
      "Epoch 8/40\n",
      "33/33 [==============================] - 22s 671ms/step - loss: 4194.7852 - val_loss: 507.1313 - lr: 0.1000\n",
      "Epoch 9/40\n",
      "33/33 [==============================] - 43s 1s/step - loss: 4055.0015 - val_loss: 459.9890 - lr: 0.1000\n",
      "Epoch 10/40\n",
      "33/33 [==============================] - 17s 543ms/step - loss: 4101.7393 - val_loss: 402.5408 - lr: 0.1000\n",
      "Epoch 11/40\n",
      "33/33 [==============================] - 21s 671ms/step - loss: 3854.4570 - val_loss: 771.7769 - lr: 0.1000\n",
      "Epoch 12/40\n",
      "33/33 [==============================] - 17s 532ms/step - loss: 3510.1887 - val_loss: 234.6698 - lr: 0.0100\n",
      "Epoch 13/40\n",
      "33/33 [==============================] - 21s 670ms/step - loss: 3641.0183 - val_loss: 180.6275 - lr: 0.0100\n",
      "Epoch 14/40\n",
      "33/33 [==============================] - 21s 670ms/step - loss: 3555.0146 - val_loss: 307.6458 - lr: 0.0100\n",
      "Epoch 15/40\n",
      "33/33 [==============================] - 21s 670ms/step - loss: 3461.8730 - val_loss: 292.4449 - lr: 0.0100\n",
      "Epoch 16/40\n",
      "33/33 [==============================] - 17s 520ms/step - loss: 3461.6848 - val_loss: 253.8587 - lr: 0.0100\n",
      "Epoch 17/40\n",
      "33/33 [==============================] - 21s 671ms/step - loss: 3529.4670 - val_loss: 203.9566 - lr: 0.0100\n",
      "Epoch 18/40\n",
      "33/33 [==============================] - 17s 528ms/step - loss: 3452.2134 - val_loss: 238.4579 - lr: 0.0100\n",
      "Epoch 19/40\n",
      "33/33 [==============================] - 22s 671ms/step - loss: 3441.1780 - val_loss: 363.2192 - lr: 0.0100\n",
      "Epoch 20/40\n",
      "33/33 [==============================] - 21s 671ms/step - loss: 3412.6995 - val_loss: 355.7509 - lr: 0.0100\n",
      "Epoch 21/40\n",
      "33/33 [==============================] - 22s 671ms/step - loss: 3363.3938 - val_loss: 207.3625 - lr: 0.0100\n",
      "Epoch 22/40\n",
      "33/33 [==============================] - 17s 518ms/step - loss: 3320.5823 - val_loss: 207.8142 - lr: 0.0010\n",
      "Epoch 23/40\n",
      "33/33 [==============================] - 17s 519ms/step - loss: 3379.1963 - val_loss: 220.2277 - lr: 0.0010\n",
      "Epoch 24/40\n",
      "33/33 [==============================] - 17s 515ms/step - loss: 3299.5984 - val_loss: 204.2889 - lr: 0.0010\n",
      "Epoch 25/40\n",
      "33/33 [==============================] - 17s 517ms/step - loss: 3366.2891 - val_loss: 216.2592 - lr: 0.0010\n",
      "Epoch 26/40\n",
      "33/33 [==============================] - 17s 518ms/step - loss: 3360.9246 - val_loss: 211.4691 - lr: 0.0010\n",
      "Epoch 27/40\n",
      "33/33 [==============================] - 22s 671ms/step - loss: 3352.5623 - val_loss: 206.8332 - lr: 0.0010\n",
      "Epoch 28/40\n",
      "33/33 [==============================] - 21s 671ms/step - loss: 3284.5129 - val_loss: 211.9143 - lr: 0.0010\n",
      "Epoch 29/40\n",
      "33/33 [==============================] - 21s 670ms/step - loss: 3323.1899 - val_loss: 213.3577 - lr: 0.0010\n",
      "Epoch 30/40\n",
      "33/33 [==============================] - 17s 537ms/step - loss: 3279.0129 - val_loss: 235.7823 - lr: 0.0010\n",
      "Epoch 31/40\n",
      "33/33 [==============================] - 17s 535ms/step - loss: 3356.2244 - val_loss: 202.3151 - lr: 0.0010\n",
      "Epoch 32/40\n",
      "33/33 [==============================] - 17s 537ms/step - loss: 3341.7419 - val_loss: 216.5825 - lr: 0.0010\n",
      "Epoch 33/40\n",
      "33/33 [==============================] - 22s 671ms/step - loss: 3300.8381 - val_loss: 219.3275 - lr: 0.0010\n",
      "Epoch 34/40\n",
      "33/33 [==============================] - 17s 544ms/step - loss: 3306.4846 - val_loss: 207.2570 - lr: 0.0010\n",
      "Epoch 35/40\n",
      "33/33 [==============================] - 22s 672ms/step - loss: 3319.7441 - val_loss: 239.8457 - lr: 0.0010\n",
      "Epoch 36/40\n",
      "33/33 [==============================] - 17s 531ms/step - loss: 3325.1882 - val_loss: 228.5556 - lr: 0.0010\n",
      "Epoch 37/40\n",
      "33/33 [==============================] - 22s 671ms/step - loss: 3375.7234 - val_loss: 209.0043 - lr: 0.0010\n",
      "Epoch 38/40\n",
      "33/33 [==============================] - 21s 670ms/step - loss: 3333.7217 - val_loss: 241.6851 - lr: 0.0010\n",
      "Epoch 39/40\n",
      "33/33 [==============================] - 21s 670ms/step - loss: 3322.7366 - val_loss: 211.7195 - lr: 0.0010\n",
      "Epoch 40/40\n",
      "33/33 [==============================] - 22s 672ms/step - loss: 3308.2749 - val_loss: 213.0394 - lr: 0.0010\n"
     ]
    }
   ],
   "source": [
    "# scheduler for changing learning rate\n",
    "\n",
    "def schedule(epoch, lr):\n",
    "    if epoch<=10:\n",
    "        return 1E-1\n",
    "    elif epoch>10 and epoch<=20:\n",
    "        return 1E-2\n",
    "    else:\n",
    "        return 1E-3\n",
    "lrs=LearningRateScheduler(schedule)\n",
    "\n",
    "\n",
    "# teain model for 40 epochs\n",
    "\n",
    "history=model.fit(train_X2, train_Y, \n",
    "          epochs=40,\n",
    "          batch_size=512,\n",
    "          callbacks=[lrs],\n",
    "          validation_data=(val_X2, val_Y),\n",
    "          validation_batch_size=1\n",
    "          )"
   ]
  },
  {
   "cell_type": "code",
   "execution_count": 76,
   "metadata": {
    "colab": {
     "base_uri": "https://localhost:8080/",
     "height": 390
    },
    "id": "DCaXrS77Cr7e",
    "outputId": "b3b888bb-503d-4b2b-d21d-908344b25ec1"
   },
   "outputs": [
    {
     "data": {
      "image/png": "[encoded data removed]",
      "text/plain": [
       "<Figure size 1440x432 with 2 Axes>"
      ]
     },
     "metadata": {
      "needs_background": "light"
     },
     "output_type": "display_data"
    }
   ],
   "source": [
    "# plot training curves : train-loss, val-loss and learninig rate for 40 epochs\n",
    "\n",
    "plot_training_history(history)"
   ]
  },
  {
   "cell_type": "code",
   "execution_count": 78,
   "metadata": {
    "colab": {
     "base_uri": "https://localhost:8080/"
    },
    "id": "jh46_zVyDTRA",
    "outputId": "1243bce6-50dd-469a-ce52-681ad29641d4"
   },
   "outputs": [
    {
     "name": "stderr",
     "output_type": "stream",
     "text": [
      "/usr/local/lib/python3.7/dist-packages/tensorflow/python/data/ops/structured_function.py:265: UserWarning: Even though the `tf.config.experimental_run_functions_eagerly` option is set, this option does not apply to tf.data functions. To force eager execution of tf.data functions, please use `tf.data.experimental.enable_debug_mode()`.\n",
      "  \"Even though the `tf.config.experimental_run_functions_eagerly` \"\n"
     ]
    },
    {
     "name": "stdout",
     "output_type": "stream",
     "text": [
      "MAPE 0.008, MAE : 10.459, MSE : 213.04, RMSE : 14.596 \n"
     ]
    }
   ],
   "source": [
    "pred_Y=model.predict(val_X2)\n",
    "\n",
    "mape, mae, mse, rmse = get_metrics(val_Y, pred_Y)\n",
    "print(\"MAPE {}, MAE : {}, MSE : {}, RMSE : {} \".format(mape, mae, mse, rmse))"
   ]
  },
  {
   "cell_type": "code",
   "execution_count": 79,
   "metadata": {
    "colab": {
     "base_uri": "https://localhost:8080/",
     "height": 320
    },
    "id": "BZdvI_JxDViE",
    "outputId": "7171b70e-9bdc-449a-e796-ae5f7e597fd8"
   },
   "outputs": [
    {
     "data": {
      "image/png": "[encoded data removed]",
      "text/plain": [
       "<Figure size 1440x360 with 1 Axes>"
      ]
     },
     "metadata": {
      "needs_background": "light"
     },
     "output_type": "display_data"
    }
   ],
   "source": [
    "# plot the predictions on graph\n",
    "\n",
    "plot_predictions(pred_Y)"
   ]
  },
  {
   "cell_type": "markdown",
   "metadata": {
    "id": "5qjFtpysGYIc"
   },
   "source": [
    "### LSTM"
   ]
  },
  {
   "cell_type": "code",
   "execution_count": 81,
   "metadata": {
    "colab": {
     "base_uri": "https://localhost:8080/"
    },
    "id": "ItnEYTkTDYcB",
    "outputId": "272f1a9a-c58c-4cb0-ce9c-0ac0a22aa2f5"
   },
   "outputs": [
    {
     "name": "stdout",
     "output_type": "stream",
     "text": [
      "Model: \"model\"\n",
      "_________________________________________________________________\n",
      " Layer (type)                Output Shape              Param #   \n",
      "=================================================================\n",
      " input_1 (InputLayer)        [(None, 1, 5)]            0         \n",
      "                                                                 \n",
      " lstm (LSTM)                 (None, 1, 256)            268288    \n",
      "                                                                 \n",
      " dropout (Dropout)           (None, 1, 256)            0         \n",
      "                                                                 \n",
      " flatten (Flatten)           (None, 256)               0         \n",
      "                                                                 \n",
      " dense (Dense)               (None, 1)                 257       \n",
      "                                                                 \n",
      "=================================================================\n",
      "Total params: 268,545\n",
      "Trainable params: 268,545\n",
      "Non-trainable params: 0\n",
      "_________________________________________________________________\n"
     ]
    }
   ],
   "source": [
    "# create LSTM model\n",
    "\n",
    "def create_lstm_model(n_timesteps=5):\n",
    "  inp=Input((1, n_timesteps))\n",
    "  x=inp\n",
    "  x=LSTM(units=256, return_sequences=True)(x)     # LSTM layer\n",
    "  x=Dropout(0.3)(x)\n",
    "  x=Flatten()(x)\n",
    "  x=Dense(1)(x)\n",
    "\n",
    "  model=Model(inp, x)\n",
    "  return model\n",
    "\n",
    "\n",
    "K.clear_session()  \n",
    "model=create_lstm_model(5)\n",
    "model.compile(optimizer=Adam(1E-2), loss=\"mse\")\n",
    "model.summary()"
   ]
  },
  {
   "cell_type": "code",
   "execution_count": 83,
   "metadata": {
    "colab": {
     "base_uri": "https://localhost:8080/"
    },
    "id": "j82J44oAGg69",
    "outputId": "a1fa8e1b-29c3-4256-8057-0e09422a1f15"
   },
   "outputs": [
    {
     "name": "stdout",
     "output_type": "stream",
     "text": [
      "Epoch 1/40\n",
      " 1/33 [..............................] - ETA: 3s - loss: 157852.6250"
     ]
    },
    {
     "name": "stderr",
     "output_type": "stream",
     "text": [
      "/usr/local/lib/python3.7/dist-packages/tensorflow/python/data/ops/structured_function.py:265: UserWarning: Even though the `tf.config.experimental_run_functions_eagerly` option is set, this option does not apply to tf.data functions. To force eager execution of tf.data functions, please use `tf.data.experimental.enable_debug_mode()`.\n",
      "  \"Even though the `tf.config.experimental_run_functions_eagerly` \"\n"
     ]
    },
    {
     "name": "stdout",
     "output_type": "stream",
     "text": [
      "33/33 [==============================] - 24s 732ms/step - loss: 97073.7109 - val_loss: 316309.0625 - lr: 0.1000\n",
      "Epoch 2/40\n",
      "33/33 [==============================] - 22s 698ms/step - loss: 47790.3750 - val_loss: 133707.0469 - lr: 0.1000\n",
      "Epoch 3/40\n",
      "33/33 [==============================] - 22s 696ms/step - loss: 26264.9180 - val_loss: 50088.0430 - lr: 0.1000\n",
      "Epoch 4/40\n",
      "33/33 [==============================] - 19s 606ms/step - loss: 14039.2617 - val_loss: 15656.2998 - lr: 0.1000\n",
      "Epoch 5/40\n",
      "33/33 [==============================] - 19s 592ms/step - loss: 8181.7021 - val_loss: 7071.3960 - lr: 0.1000\n",
      "Epoch 6/40\n",
      "33/33 [==============================] - 22s 696ms/step - loss: 5556.7007 - val_loss: 4820.9990 - lr: 0.1000\n",
      "Epoch 7/40\n",
      "33/33 [==============================] - 18s 570ms/step - loss: 4215.2222 - val_loss: 1762.0353 - lr: 0.1000\n",
      "Epoch 8/40\n",
      "33/33 [==============================] - 43s 1s/step - loss: 3297.2688 - val_loss: 1699.1562 - lr: 0.1000\n",
      "Epoch 9/40\n",
      "33/33 [==============================] - 22s 697ms/step - loss: 2721.4973 - val_loss: 869.5168 - lr: 0.1000\n",
      "Epoch 10/40\n",
      "33/33 [==============================] - 18s 557ms/step - loss: 2398.0522 - val_loss: 359.6290 - lr: 0.1000\n",
      "Epoch 11/40\n",
      "33/33 [==============================] - 22s 697ms/step - loss: 2044.4174 - val_loss: 478.3872 - lr: 0.1000\n",
      "Epoch 12/40\n",
      "33/33 [==============================] - 22s 697ms/step - loss: 1855.4352 - val_loss: 210.3987 - lr: 0.0100\n",
      "Epoch 13/40\n",
      "33/33 [==============================] - 20s 630ms/step - loss: 1791.6747 - val_loss: 205.0220 - lr: 0.0100\n",
      "Epoch 14/40\n",
      "33/33 [==============================] - 22s 696ms/step - loss: 1856.9557 - val_loss: 221.5227 - lr: 0.0100\n",
      "Epoch 15/40\n",
      "33/33 [==============================] - 22s 697ms/step - loss: 1760.7617 - val_loss: 197.3828 - lr: 0.0100\n",
      "Epoch 16/40\n",
      "33/33 [==============================] - 18s 569ms/step - loss: 1800.9341 - val_loss: 367.1277 - lr: 0.0100\n",
      "Epoch 17/40\n",
      "33/33 [==============================] - 22s 697ms/step - loss: 1721.1615 - val_loss: 227.9240 - lr: 0.0100\n",
      "Epoch 18/40\n",
      "33/33 [==============================] - 22s 697ms/step - loss: 1754.0173 - val_loss: 238.5632 - lr: 0.0100\n",
      "Epoch 19/40\n",
      "33/33 [==============================] - 19s 584ms/step - loss: 1766.4823 - val_loss: 282.4223 - lr: 0.0100\n",
      "Epoch 20/40\n",
      "33/33 [==============================] - 19s 593ms/step - loss: 1725.6970 - val_loss: 278.8538 - lr: 0.0100\n",
      "Epoch 21/40\n",
      "33/33 [==============================] - 19s 595ms/step - loss: 1687.4836 - val_loss: 562.1575 - lr: 0.0100\n",
      "Epoch 22/40\n",
      "33/33 [==============================] - 19s 598ms/step - loss: 1656.4626 - val_loss: 217.3853 - lr: 0.0010\n",
      "Epoch 23/40\n",
      "33/33 [==============================] - 22s 699ms/step - loss: 1681.4901 - val_loss: 191.6198 - lr: 0.0010\n",
      "Epoch 24/40\n",
      "33/33 [==============================] - 22s 700ms/step - loss: 1697.7948 - val_loss: 183.5954 - lr: 0.0010\n",
      "Epoch 25/40\n",
      "33/33 [==============================] - 19s 598ms/step - loss: 1628.3323 - val_loss: 197.2783 - lr: 0.0010\n",
      "Epoch 26/40\n",
      "33/33 [==============================] - 20s 608ms/step - loss: 1654.7803 - val_loss: 182.6134 - lr: 0.0010\n",
      "Epoch 27/40\n",
      "33/33 [==============================] - 19s 603ms/step - loss: 1687.3217 - val_loss: 185.1288 - lr: 0.0010\n",
      "Epoch 28/40\n",
      "33/33 [==============================] - 19s 591ms/step - loss: 1592.2638 - val_loss: 188.9895 - lr: 0.0010\n",
      "Epoch 29/40\n",
      "33/33 [==============================] - 22s 698ms/step - loss: 1625.6860 - val_loss: 174.6489 - lr: 0.0010\n",
      "Epoch 30/40\n",
      "33/33 [==============================] - 19s 584ms/step - loss: 1680.3246 - val_loss: 175.3192 - lr: 0.0010\n",
      "Epoch 31/40\n",
      "33/33 [==============================] - 22s 697ms/step - loss: 1652.2490 - val_loss: 223.7809 - lr: 0.0010\n",
      "Epoch 32/40\n",
      "33/33 [==============================] - 22s 697ms/step - loss: 1595.5918 - val_loss: 181.4832 - lr: 0.0010\n",
      "Epoch 33/40\n",
      "33/33 [==============================] - 22s 697ms/step - loss: 1618.6663 - val_loss: 190.8495 - lr: 0.0010\n",
      "Epoch 34/40\n",
      "33/33 [==============================] - 22s 698ms/step - loss: 1631.2869 - val_loss: 183.4303 - lr: 0.0010\n",
      "Epoch 35/40\n",
      "33/33 [==============================] - 22s 697ms/step - loss: 1661.3474 - val_loss: 178.4529 - lr: 0.0010\n",
      "Epoch 36/40\n",
      "33/33 [==============================] - 22s 698ms/step - loss: 1600.8427 - val_loss: 174.2059 - lr: 0.0010\n",
      "Epoch 37/40\n",
      "33/33 [==============================] - 19s 601ms/step - loss: 1605.2721 - val_loss: 183.6481 - lr: 0.0010\n",
      "Epoch 38/40\n",
      "33/33 [==============================] - 19s 597ms/step - loss: 1646.3097 - val_loss: 185.8685 - lr: 0.0010\n",
      "Epoch 39/40\n",
      "33/33 [==============================] - 20s 638ms/step - loss: 1585.1733 - val_loss: 189.7456 - lr: 0.0010\n",
      "Epoch 40/40\n",
      "33/33 [==============================] - 22s 698ms/step - loss: 1633.3528 - val_loss: 183.4816 - lr: 0.0010\n"
     ]
    }
   ],
   "source": [
    "# train model\n",
    "\n",
    "history=model.fit(train_X2, train_Y, \n",
    "          epochs=40,\n",
    "          batch_size=512,\n",
    "          callbacks=[lrs],\n",
    "          validation_data=(val_X2, val_Y),\n",
    "          validation_batch_size=1\n",
    "          )"
   ]
  },
  {
   "cell_type": "code",
   "execution_count": 84,
   "metadata": {
    "colab": {
     "base_uri": "https://localhost:8080/",
     "height": 390
    },
    "id": "JUAWNDU7IPIt",
    "outputId": "7696e4e7-fa9c-4295-df0a-ed2ba9b2c723"
   },
   "outputs": [
    {
     "data": {
      "image/png": "[encoded data removed]",
      "text/plain": [
       "<Figure size 1440x432 with 2 Axes>"
      ]
     },
     "metadata": {
      "needs_background": "light"
     },
     "output_type": "display_data"
    }
   ],
   "source": [
    "plot_training_history(history)"
   ]
  },
  {
   "cell_type": "code",
   "execution_count": 86,
   "metadata": {
    "colab": {
     "base_uri": "https://localhost:8080/"
    },
    "id": "e53QedvNI4th",
    "outputId": "e78f1fd1-2bf7-4f7c-911e-549bb7465e0e"
   },
   "outputs": [
    {
     "name": "stderr",
     "output_type": "stream",
     "text": [
      "/usr/local/lib/python3.7/dist-packages/tensorflow/python/data/ops/structured_function.py:265: UserWarning: Even though the `tf.config.experimental_run_functions_eagerly` option is set, this option does not apply to tf.data functions. To force eager execution of tf.data functions, please use `tf.data.experimental.enable_debug_mode()`.\n",
      "  \"Even though the `tf.config.experimental_run_functions_eagerly` \"\n"
     ]
    },
    {
     "name": "stdout",
     "output_type": "stream",
     "text": [
      "MAPE 0.007, MAE : 9.306, MSE : 183.482, RMSE : 13.546 \n"
     ]
    }
   ],
   "source": [
    "pred_Y=model.predict(val_X2)\n",
    "\n",
    "mape, mae, mse, rmse = get_metrics(val_Y, pred_Y)\n",
    "print(\"MAPE {}, MAE : {}, MSE : {}, RMSE : {} \".format(mape, mae, mse, rmse))"
   ]
  },
  {
   "cell_type": "code",
   "execution_count": 87,
   "metadata": {
    "colab": {
     "base_uri": "https://localhost:8080/",
     "height": 320
    },
    "id": "ONT9z0MeI5Bh",
    "outputId": "aab6847c-5542-4000-960e-c8db3f42d735"
   },
   "outputs": [
    {
     "data": {
      "image/png": "[encoded data removed]",
      "text/plain": [
       "<Figure size 1440x360 with 1 Axes>"
      ]
     },
     "metadata": {
      "needs_background": "light"
     },
     "output_type": "display_data"
    }
   ],
   "source": [
    "plot_predictions(pred_Y)"
   ]
  },
  {
   "cell_type": "markdown",
   "metadata": {},
   "source": [
    "<br><br>"
   ]
  },
  {
   "cell_type": "markdown",
   "metadata": {
    "ExecuteTime": {
     "end_time": "2022-07-20T05:29:53.302428Z",
     "start_time": "2022-07-20T05:29:53.297477Z"
    }
   },
   "source": [
    "# Results"
   ]
  },
  {
   "cell_type": "markdown",
   "metadata": {
    "ExecuteTime": {
     "end_time": "2022-07-20T05:16:31.039537Z",
     "start_time": "2022-07-20T05:16:31.022327Z"
    }
   },
   "source": [
    "<center><b style=\"text-align:center\" width=\"100%\" >Model Performance</b></center>\n",
    "\n",
    "\n",
    "<table width=\"90%\" align-content=\"center\" >\n",
    "<tr><th style=\"text-align:center\" >Model</th><th style=\"text-align:center\" >Mean Absolute Error</th></tr>    \n",
    "<tr><td style=\"text-align:center\" >Polynomial Regression</td><td style=\"text-align:center\" >5.169</td></tr>\n",
    "<tr><td style=\"text-align:center\" >XGBoost</td><td  style=\"text-align:center\" >6.98</td></tr>\n",
    "<tr><td style=\"text-align:center\" >SVR</td><td style=\"text-align:center\" >7.081</td></tr>\n",
    "<tr><td style=\"text-align:center\" >Random Forest</td><td style=\"text-align:center\" >7.637</td></tr>\n",
    "<tr><td style=\"text-align:center\" >LSTM</td><td style=\"text-align:center\" >9.306</td></tr>\n",
    "</table>"
   ]
  }
 ],
 "metadata": {
  "colab": {
   "collapsed_sections": [
    "xKZ-tC5RFMR5",
    "HwW0o2d-FUX1",
    "pAb9vs_Y8Qa_",
    "Y3rFHIWWkHUA",
    "afRp5lxg81pH",
    "arhOSKWu85iZ",
    "xhOjIspAD7nb"
   ],
   "name": "Gold Price Forecasting.ipynb",
   "provenance": []
  },
  "kernelspec": {
   "display_name": "Python 3 (ipykernel)",
   "language": "python",
   "name": "python3"
  },
  "language_info": {
   "codemirror_mode": {
    "name": "ipython",
    "version": 3
   },
   "file_extension": ".py",
   "mimetype": "text/x-python",
   "name": "python",
   "nbconvert_exporter": "python",
   "pygments_lexer": "ipython3",
   "version": "3.8.5"
  }
 },
 "nbformat": 4,
 "nbformat_minor": 1
}
